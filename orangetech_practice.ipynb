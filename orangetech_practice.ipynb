{
 "cells": [
  {
   "cell_type": "code",
   "execution_count": 2,
   "metadata": {},
   "outputs": [
    {
     "data": {
      "text/plain": [
       "{'action': 'fm_ajax_load_more', 'nonce': '025c2d58ba', 'page': '4'}"
      ]
     },
     "execution_count": 2,
     "metadata": {},
     "output_type": "execute_result"
    }
   ],
   "source": [
    "import requests\n",
    "\n",
    "headers = {'User-Agent': 'Mozilla/5.0 (Macintosh; Intel Mac OS X 10_15_3) AppleWebKit/537.36 (KHTML, like Gecko) Chrome/80.0.3987.163 Safari/537.36'}\n",
    "url = 'https://buzzorange.com/techorange/wp-admin/admin-ajax.php'\n",
    "\n",
    "post_data_str = '''action: fm_ajax_load_more\n",
    "nonce: 025c2d58ba\n",
    "page: 4'''\n",
    "\n",
    "post_data = {r.split(': ')[0]: r.split(': ')[1] for r in post_data_str.split('\\n')}\n",
    "post_data"
   ]
  },
  {
   "cell_type": "code",
   "execution_count": 17,
   "metadata": {},
   "outputs": [
    {
     "name": "stdout",
     "output_type": "stream",
     "text": [
      "key: action value: fm_ajax_load_more\n",
      "key: nonce value: 025c2d58ba\n",
      "key: page value: 4\n"
     ]
    },
    {
     "data": {
      "text/plain": [
       "{'action': 'fm_ajax_load_more', 'nonce': '025c2d58ba', 'page': '4'}"
      ]
     },
     "execution_count": 17,
     "metadata": {},
     "output_type": "execute_result"
    }
   ],
   "source": [
    "post_data = dict()\n",
    "for r in post_data_str.split('\\n'):\n",
    "    key = r.split(': ')[0]\n",
    "    value = r.split(': ')[1]\n",
    "    print('key:', key, 'value:', value)\n",
    "    post_data[key] = value\n",
    "post_data"
   ]
  },
  {
   "cell_type": "code",
   "execution_count": 18,
   "metadata": {},
   "outputs": [
    {
     "data": {
      "text/plain": [
       "{'action': 'fm_ajax_load_more', 'nonce': '025c2d58ba', 'page': '4'}"
      ]
     },
     "execution_count": 18,
     "metadata": {},
     "output_type": "execute_result"
    }
   ],
   "source": [
    "post_data = dict()\n",
    "for r in post_data_str.split('\\n'):\n",
    "    post_data[r.split(': ')[0]] = r.split(': ')[1]\n",
    "post_data"
   ]
  },
  {
   "cell_type": "code",
   "execution_count": 5,
   "metadata": {},
   "outputs": [],
   "source": [
    "res = requests.post(url, headers=headers, data=post_data)"
   ]
  },
  {
   "cell_type": "code",
   "execution_count": 12,
   "metadata": {},
   "outputs": [],
   "source": [
    "import json\n",
    "\n",
    "json_data = json.loads(res.text)\n"
   ]
  },
  {
   "cell_type": "code",
   "execution_count": 8,
   "metadata": {},
   "outputs": [
    {
     "name": "stdout",
     "output_type": "stream",
     "text": [
      "success\n",
      "data\n"
     ]
    }
   ],
   "source": [
    "for k in json_data:\n",
    "    print(k)"
   ]
  },
  {
   "cell_type": "code",
   "execution_count": 9,
   "metadata": {},
   "outputs": [
    {
     "data": {
      "text/plain": [
       "True"
      ]
     },
     "execution_count": 9,
     "metadata": {},
     "output_type": "execute_result"
    }
   ],
   "source": [
    "json_data['success']"
   ]
  },
  {
   "cell_type": "code",
   "execution_count": 10,
   "metadata": {},
   "outputs": [
    {
     "data": {
      "text/plain": [
       "'<article id=\"post-328123\" class=\"post-328123 type-post status-publish format-standard has-post-thumbnail hentry category-uncategorized tag-diy tag-nintendo-switch tag-switch tag-35362 tag-16329\">\\n\\t\\n\\t\\t<a class=\"post-thumbnail nljf\" href=\"https://buzzorange.com/techorange/2020/04/27/switch-console-diy/\" aria-hidden=\"true\" onclick=\"ga(\\'send\\', \\'event\\', \\'TO Home Posts\\', \\'Click\\', \\'買不到 Switch 主機？神人自己買零件組裝，成本只要 6000 台幣\\', {\\'nonInteraction\\': 1});\" data-src=\"https://buzzorange.com/techorange/wp-content/uploads/sites/2/2020/04/switch.webp?jpg\">&nbsp;</a>\\n\\n\\t\\t\\n\\t<header class=\"entry-header\">\\n\\t\\t\\n\\t\\t<span class=\"posted-on\"><span class=\"screen-reader-text\">Posted on </span><time class=\"entry-date published updated\" datetime=\"2020-04-27T15:06:11+08:00\">2020/04/27</time></span><h4 class=\"entry-title\"><a href=\"https://buzzorange.com/techorange/2020/04/27/switch-console-diy/\" onclick=\"ga(\\'send\\', \\'event\\', \\'TO Home Posts\\', \\'Click\\', \\'買不到 Switch 主機？神人自己買零件組裝，成本只要 6000 台幣\\', {\\'nonInteraction\\': 1});\" rel=\"bookmark\">買不到 Switch 主機？神人自己買零件組裝，成本只要 6000 台幣</a></h4>\\t</header><!-- .entry-header -->\\n\\n\\t\\n\\t<footer class=\"entry-footer\">\\n\\t\\t<span class=\"posted-on\"><span class=\"screen-reader-text\">Posted on </span><time class=\"entry-date published updated\" datetime=\"2020-04-27T15:06:11+08:00\">2020/04/27</time></span>\\t\\t<span class=\"shareCount\">1.2 K 分享</span>\\n\\t</footer><!-- .entry-footer -->\\n</article><!-- #post-## -->\\n<article id=\"post-328113\" class=\"post-328113 type-post status-publish format-standard has-post-thumbnail hentry category-uncategorized tag-31697 tag-35145 tag-35067 tag-14447 tag-31682 tag-17842\">\\n\\t\\n\\t\\t<a class=\"post-thumbnail nljf\" href=\"https://buzzorange.com/techorange/2020/04/27/facebook-messenger-rooms/\" aria-hidden=\"true\" onclick=\"ga(\\'send\\', \\'event\\', \\'TO Home Posts\\', \\'Click\\', \\'【最多 50 人通話】臉書推出視訊服務 Messenger Rooms，沒 FB 帳號也可以用\\', {\\'nonInteraction\\': 1});\" data-src=\"https://buzzorange.com/techorange/wp-content/uploads/sites/2/2020/04/sns.webp?jpg\">&nbsp;</a>\\n\\n\\t\\t\\n\\t<header class=\"entry-header\">\\n\\t\\t\\n\\t\\t<span class=\"posted-on\"><span class=\"screen-reader-text\">Posted on </span><time class=\"entry-date published\" datetime=\"2020-04-27T13:57:29+08:00\">2020/04/27</time><time class=\"updated\" datetime=\"2020-04-27T13:58:41+08:00\">2020/04/27</time></span><h4 class=\"entry-title\"><a href=\"https://buzzorange.com/techorange/2020/04/27/facebook-messenger-rooms/\" onclick=\"ga(\\'send\\', \\'event\\', \\'TO Home Posts\\', \\'Click\\', \\'【最多 50 人通話】臉書推出視訊服務 Messenger Rooms，沒 FB 帳號也可以用\\', {\\'nonInteraction\\': 1});\" rel=\"bookmark\">【最多 50 人通話】臉書推出視訊服務 Messenger Rooms，沒 FB 帳號也可以用</a></h4>\\t</header><!-- .entry-header -->\\n\\n\\t\\n\\t<footer class=\"entry-footer\">\\n\\t\\t<span class=\"posted-on\"><span class=\"screen-reader-text\">Posted on </span><time class=\"entry-date published\" datetime=\"2020-04-27T13:57:29+08:00\">2020/04/27</time><time class=\"updated\" datetime=\"2020-04-27T13:58:41+08:00\">2020/04/27</time></span>\\t\\t<span class=\"shareCount\">29 分享</span>\\n\\t</footer><!-- .entry-footer -->\\n</article><!-- #post-## -->\\n<article id=\"post-328095\" class=\"post-328095 type-post status-publish format-standard has-post-thumbnail hentry category-uncategorized tag-coursera tag-hahow tag-21566 tag-edubiz_elearning tag-17514\">\\n\\t\\n\\t\\t<a class=\"post-thumbnail nljf\" href=\"https://buzzorange.com/techorange/2020/04/27/hahow-and-couresa-free-courses/\" aria-hidden=\"true\" onclick=\"ga(\\'send\\', \\'event\\', \\'TO Home Posts\\', \\'Click\\', \\'【上課、拿認證費用全免】線上教學平台 Coursera 釋出 3,800 堂免費課程幫失業者紓困\\', {\\'nonInteraction\\': 1});\" data-src=\"https://buzzorange.com/techorange/wp-content/uploads/sites/2/2020/04/1500x500-e1587956006269.webp?jpeg\">&nbsp;</a>\\n\\n\\t\\t\\n\\t<header class=\"entry-header\">\\n\\t\\t\\n\\t\\t<span class=\"posted-on\"><span class=\"screen-reader-text\">Posted on </span><time class=\"entry-date published\" datetime=\"2020-04-27T12:08:26+08:00\">2020/04/27</time><time class=\"updated\" datetime=\"2020-04-27T12:12:46+08:00\">2020/04/27</time></span><h4 class=\"entry-title\"><a href=\"https://buzzorange.com/techorange/2020/04/27/hahow-and-couresa-free-courses/\" onclick=\"ga(\\'send\\', \\'event\\', \\'TO Home Posts\\', \\'Click\\', \\'【上課、拿認證費用全免】線上教學平台 Coursera 釋出 3,800 堂免費課程幫失業者紓困\\', {\\'nonInteraction\\': 1});\" rel=\"bookmark\">【上課、拿認證費用全免】線上教學平台 Coursera 釋出 3,800 堂免費課程幫失業者紓困</a></h4>\\t</header><!-- .entry-header -->\\n\\n\\t\\n\\t<footer class=\"entry-footer\">\\n\\t\\t<span class=\"posted-on\"><span class=\"screen-reader-text\">Posted on </span><time class=\"entry-date published\" datetime=\"2020-04-27T12:08:26+08:00\">2020/04/27</time><time class=\"updated\" datetime=\"2020-04-27T12:12:46+08:00\">2020/04/27</time></span>\\t\\t<span class=\"shareCount\">523 分享</span>\\n\\t</footer><!-- .entry-footer -->\\n</article><!-- #post-## -->\\n<article id=\"post-328102\" class=\"post-328102 type-post status-publish format-standard has-post-thumbnail hentry category-uncategorized tag-brand_5g tag-ai tag-mram tag-14306 tag-brand_tsmc tag-22565 tag-17227\">\\n\\t\\n\\t\\t<a class=\"post-thumbnail nljf\" href=\"https://buzzorange.com/techorange/2020/04/27/mram-advantage/\" aria-hidden=\"true\" onclick=\"ga(\\'send\\', \\'event\\', \\'TO Home Posts\\', \\'Click\\', \\'MRAM 可微縮到 10 奈米以下，被半導體界視為「夢幻記憶體」技術\\', {\\'nonInteraction\\': 1});\" data-src=\"https://buzzorange.com/techorange/wp-content/uploads/sites/2/2020/04/memory-332492_1280.webp?jpg\">&nbsp;</a>\\n\\n\\t\\t\\n\\t<header class=\"entry-header\">\\n\\t\\t\\n\\t\\t<span class=\"posted-on\"><span class=\"screen-reader-text\">Posted on </span><time class=\"entry-date published\" datetime=\"2020-04-27T12:05:11+08:00\">2020/04/27</time><time class=\"updated\" datetime=\"2020-04-27T12:10:34+08:00\">2020/04/27</time></span><h4 class=\"entry-title\"><a href=\"https://buzzorange.com/techorange/2020/04/27/mram-advantage/\" onclick=\"ga(\\'send\\', \\'event\\', \\'TO Home Posts\\', \\'Click\\', \\'MRAM 可微縮到 10 奈米以下，被半導體界視為「夢幻記憶體」技術\\', {\\'nonInteraction\\': 1});\" rel=\"bookmark\">MRAM 可微縮到 10 奈米以下，被半導體界視為「夢幻記憶體」技術</a></h4>\\t</header><!-- .entry-header -->\\n\\n\\t\\n\\t<footer class=\"entry-footer\">\\n\\t\\t<span class=\"posted-on\"><span class=\"screen-reader-text\">Posted on </span><time class=\"entry-date published\" datetime=\"2020-04-27T12:05:11+08:00\">2020/04/27</time><time class=\"updated\" datetime=\"2020-04-27T12:10:34+08:00\">2020/04/27</time></span>\\t\\t<span class=\"shareCount\">1.3 K 分享</span>\\n\\t</footer><!-- .entry-footer -->\\n</article><!-- #post-## -->\\n<article id=\"post-328098\" class=\"post-328098 type-post status-publish format-standard has-post-thumbnail hentry category-uncategorized tag-gogoro tag-gogoro- tag-22930 tag-23724 tag-14536\">\\n\\t\\n\\t\\t<a class=\"post-thumbnail nljf\" href=\"https://buzzorange.com/techorange/2020/04/27/gogoro-battery-issue/\" aria-hidden=\"true\" onclick=\"ga(\\'send\\', \\'event\\', \\'TO Home Posts\\', \\'Click\\', \\'能不能用「騎到飽」方案跑外送？Gogoro：總里程數不要連 2 個月超過 1,600 公里\\', {\\'nonInteraction\\': 1});\" data-src=\"https://buzzorange.com/techorange/wp-content/uploads/sites/2/2020/04/Gogoro_Smart_Electric_Scooter_24451127336.webp?jpg\">&nbsp;</a>\\n\\n\\t\\t\\n\\t<header class=\"entry-header\">\\n\\t\\t\\n\\t\\t<span class=\"posted-on\"><span class=\"screen-reader-text\">Posted on </span><time class=\"entry-date published updated\" datetime=\"2020-04-27T11:20:23+08:00\">2020/04/27</time></span><h4 class=\"entry-title\"><a href=\"https://buzzorange.com/techorange/2020/04/27/gogoro-battery-issue/\" onclick=\"ga(\\'send\\', \\'event\\', \\'TO Home Posts\\', \\'Click\\', \\'能不能用「騎到飽」方案跑外送？Gogoro：總里程數不要連 2 個月超過 1,600 公里\\', {\\'nonInteraction\\': 1});\" rel=\"bookmark\">能不能用「騎到飽」方案跑外送？Gogoro：總里程數不要連 2 個月超過 1,600 公里</a></h4>\\t</header><!-- .entry-header -->\\n\\n\\t\\n\\t<footer class=\"entry-footer\">\\n\\t\\t<span class=\"posted-on\"><span class=\"screen-reader-text\">Posted on </span><time class=\"entry-date published updated\" datetime=\"2020-04-27T11:20:23+08:00\">2020/04/27</time></span>\\t\\t<span class=\"shareCount\">68 分享</span>\\n\\t</footer><!-- .entry-footer -->\\n</article><!-- #post-## -->\\n<article id=\"post-328048\" class=\"post-328048 type-post status-publish format-standard hentry category-uncategorized tag-ibm tag-windows tag-software_os tag-14511 tag-16739 tag-14807\">\\n\\t\\n\\t\\t<a class=\"post-thumbnail nljf\" href=\"https://buzzorange.com/techorange/2020/04/24/the-business-of-platforms/\" aria-hidden=\"true\" onclick=\"ga(\\'send\\', \\'event\\', \\'TO Home Posts\\', \\'Click\\', \\'比爾蓋茲拿下作業系統大餅的策略：靠「平台佈局」養大市場\\', {\\'nonInteraction\\': 1});\" data-src=\"\">&nbsp;</a>\\n\\n\\t\\t\\n\\t<header class=\"entry-header\">\\n\\t\\t\\n\\t\\t<span class=\"posted-on\"><span class=\"screen-reader-text\">Posted on </span><time class=\"entry-date published updated\" datetime=\"2020-04-24T19:10:52+08:00\">2020/04/24</time></span><h4 class=\"entry-title\"><a href=\"https://buzzorange.com/techorange/2020/04/24/the-business-of-platforms/\" onclick=\"ga(\\'send\\', \\'event\\', \\'TO Home Posts\\', \\'Click\\', \\'比爾蓋茲拿下作業系統大餅的策略：靠「平台佈局」養大市場\\', {\\'nonInteraction\\': 1});\" rel=\"bookmark\">比爾蓋茲拿下作業系統大餅的策略：靠「平台佈局」養大市場</a></h4>\\t</header><!-- .entry-header -->\\n\\n\\t\\n\\t<footer class=\"entry-footer\">\\n\\t\\t<span class=\"posted-on\"><span class=\"screen-reader-text\">Posted on </span><time class=\"entry-date published updated\" datetime=\"2020-04-24T19:10:52+08:00\">2020/04/24</time></span>\\t\\t<span class=\"shareCount\">1.2 K 分享</span>\\n\\t</footer><!-- .entry-footer -->\\n</article><!-- #post-## -->\\n<article id=\"post-328071\" class=\"post-328071 type-post status-publish format-standard has-post-thumbnail hentry category-uncategorized tag-saas tag-suknowhow_bizmodel tag-17742 tag-34760 tag-14938\">\\n\\t\\n\\t\\t<a class=\"post-thumbnail nljf\" href=\"https://buzzorange.com/techorange/2020/04/24/saas-business-model/\" aria-hidden=\"true\" onclick=\"ga(\\'send\\', \\'event\\', \\'TO Home Posts\\', \\'Click\\', \\'SaaS 催生的商業模式變革：網路公司推出「訂閱制」，替客戶吸收軟硬體成本\\', {\\'nonInteraction\\': 1});\" data-src=\"https://buzzorange.com/techorange/wp-content/uploads/sites/2/2020/04/laptop-desk-notebook-computer-macbook-mac-1083812-pxhere.com_.webp?jpg\">&nbsp;</a>\\n\\n\\t\\t\\n\\t<header class=\"entry-header\">\\n\\t\\t\\n\\t\\t<span class=\"posted-on\"><span class=\"screen-reader-text\">Posted on </span><time class=\"entry-date published updated\" datetime=\"2020-04-24T18:08:12+08:00\">2020/04/24</time></span><h4 class=\"entry-title\"><a href=\"https://buzzorange.com/techorange/2020/04/24/saas-business-model/\" onclick=\"ga(\\'send\\', \\'event\\', \\'TO Home Posts\\', \\'Click\\', \\'SaaS 催生的商業模式變革：網路公司推出「訂閱制」，替客戶吸收軟硬體成本\\', {\\'nonInteraction\\': 1});\" rel=\"bookmark\">SaaS 催生的商業模式變革：網路公司推出「訂閱制」，替客戶吸收軟硬體成本</a></h4>\\t</header><!-- .entry-header -->\\n\\n\\t\\n\\t<footer class=\"entry-footer\">\\n\\t\\t<span class=\"posted-on\"><span class=\"screen-reader-text\">Posted on </span><time class=\"entry-date published updated\" datetime=\"2020-04-24T18:08:12+08:00\">2020/04/24</time></span>\\t\\t<span class=\"shareCount\">63 分享</span>\\n\\t</footer><!-- .entry-footer -->\\n</article><!-- #post-## -->\\n<article id=\"post-328082\" class=\"post-328082 type-post status-publish format-standard has-post-thumbnail hentry category-uncategorized tag-brand_apple tag-arm tag-28727 tag-35433 tag-16789\">\\n\\t\\n\\t\\t<a class=\"post-thumbnail nljf\" href=\"https://buzzorange.com/techorange/2020/04/24/new-mac-12core-processor/\" aria-hidden=\"true\" onclick=\"ga(\\'send\\', \\'event\\', \\'TO Home Posts\\', \\'Click\\', \\'【和平分手】傳新一代 Mac 不再使用 Intel，將搭配自製 12 核處理器\\', {\\'nonInteraction\\': 1});\" data-src=\"https://buzzorange.com/techorange/wp-content/uploads/sites/2/2020/04/david-latorre-romero-0tNF_mHm_Ls-unsplash.webp?jpg\">&nbsp;</a>\\n\\n\\t\\t\\n\\t<header class=\"entry-header\">\\n\\t\\t\\n\\t\\t<span class=\"posted-on\"><span class=\"screen-reader-text\">Posted on </span><time class=\"entry-date published\" datetime=\"2020-04-24T18:07:34+08:00\">2020/04/24</time><time class=\"updated\" datetime=\"2020-04-24T19:06:15+08:00\">2020/04/24</time></span><h4 class=\"entry-title\"><a href=\"https://buzzorange.com/techorange/2020/04/24/new-mac-12core-processor/\" onclick=\"ga(\\'send\\', \\'event\\', \\'TO Home Posts\\', \\'Click\\', \\'【和平分手】傳新一代 Mac 不再使用 Intel，將搭配自製 12 核處理器\\', {\\'nonInteraction\\': 1});\" rel=\"bookmark\">【和平分手】傳新一代 Mac 不再使用 Intel，將搭配自製 12 核處理器</a></h4>\\t</header><!-- .entry-header -->\\n\\n\\t\\n\\t<footer class=\"entry-footer\">\\n\\t\\t<span class=\"posted-on\"><span class=\"screen-reader-text\">Posted on </span><time class=\"entry-date published\" datetime=\"2020-04-24T18:07:34+08:00\">2020/04/24</time><time class=\"updated\" datetime=\"2020-04-24T19:06:15+08:00\">2020/04/24</time></span>\\t\\t<span class=\"shareCount\">185 分享</span>\\n\\t</footer><!-- .entry-footer -->\\n</article><!-- #post-## -->\\n'"
      ]
     },
     "execution_count": 10,
     "metadata": {},
     "output_type": "execute_result"
    }
   ],
   "source": [
    "json_data['data']"
   ]
  },
  {
   "cell_type": "code",
   "execution_count": 11,
   "metadata": {
    "scrolled": true
   },
   "outputs": [
    {
     "name": "stdout",
     "output_type": "stream",
     "text": [
      "<article class=\"post-328123 type-post status-publish format-standard has-post-thumbnail hentry category-uncategorized tag-diy tag-nintendo-switch tag-switch tag-35362 tag-16329\" id=\"post-328123\">\n",
      " <a aria-hidden=\"true\" class=\"post-thumbnail nljf\" data-src=\"https://buzzorange.com/techorange/wp-content/uploads/sites/2/2020/04/switch.webp?jpg\" href=\"https://buzzorange.com/techorange/2020/04/27/switch-console-diy/\" onclick=\"ga('send', 'event', 'TO Home Posts', 'Click', '買不到 Switch 主機？神人自己買零件組裝，成本只要 6000 台幣', {'nonInteraction': 1});\">\n",
      " </a>\n",
      " <header class=\"entry-header\">\n",
      "  <span class=\"posted-on\">\n",
      "   <span class=\"screen-reader-text\">\n",
      "    Posted on\n",
      "   </span>\n",
      "   <time class=\"entry-date published updated\" datetime=\"2020-04-27T15:06:11+08:00\">\n",
      "    2020/04/27\n",
      "   </time>\n",
      "  </span>\n",
      "  <h4 class=\"entry-title\">\n",
      "   <a href=\"https://buzzorange.com/techorange/2020/04/27/switch-console-diy/\" onclick=\"ga('send', 'event', 'TO Home Posts', 'Click', '買不到 Switch 主機？神人自己買零件組裝，成本只要 6000 台幣', {'nonInteraction': 1});\" rel=\"bookmark\">\n",
      "    買不到 Switch 主機？神人自己買零件組裝，成本只要 6000 台幣\n",
      "   </a>\n",
      "  </h4>\n",
      " </header>\n",
      " <!-- .entry-header -->\n",
      " <footer class=\"entry-footer\">\n",
      "  <span class=\"posted-on\">\n",
      "   <span class=\"screen-reader-text\">\n",
      "    Posted on\n",
      "   </span>\n",
      "   <time class=\"entry-date published updated\" datetime=\"2020-04-27T15:06:11+08:00\">\n",
      "    2020/04/27\n",
      "   </time>\n",
      "  </span>\n",
      "  <span class=\"shareCount\">\n",
      "   1.2 K 分享\n",
      "  </span>\n",
      " </footer>\n",
      " <!-- .entry-footer -->\n",
      "</article>\n",
      "<!-- #post-## -->\n",
      "<article class=\"post-328113 type-post status-publish format-standard has-post-thumbnail hentry category-uncategorized tag-31697 tag-35145 tag-35067 tag-14447 tag-31682 tag-17842\" id=\"post-328113\">\n",
      " <a aria-hidden=\"true\" class=\"post-thumbnail nljf\" data-src=\"https://buzzorange.com/techorange/wp-content/uploads/sites/2/2020/04/sns.webp?jpg\" href=\"https://buzzorange.com/techorange/2020/04/27/facebook-messenger-rooms/\" onclick=\"ga('send', 'event', 'TO Home Posts', 'Click', '【最多 50 人通話】臉書推出視訊服務 Messenger Rooms，沒 FB 帳號也可以用', {'nonInteraction': 1});\">\n",
      " </a>\n",
      " <header class=\"entry-header\">\n",
      "  <span class=\"posted-on\">\n",
      "   <span class=\"screen-reader-text\">\n",
      "    Posted on\n",
      "   </span>\n",
      "   <time class=\"entry-date published\" datetime=\"2020-04-27T13:57:29+08:00\">\n",
      "    2020/04/27\n",
      "   </time>\n",
      "   <time class=\"updated\" datetime=\"2020-04-27T13:58:41+08:00\">\n",
      "    2020/04/27\n",
      "   </time>\n",
      "  </span>\n",
      "  <h4 class=\"entry-title\">\n",
      "   <a href=\"https://buzzorange.com/techorange/2020/04/27/facebook-messenger-rooms/\" onclick=\"ga('send', 'event', 'TO Home Posts', 'Click', '【最多 50 人通話】臉書推出視訊服務 Messenger Rooms，沒 FB 帳號也可以用', {'nonInteraction': 1});\" rel=\"bookmark\">\n",
      "    【最多 50 人通話】臉書推出視訊服務 Messenger Rooms，沒 FB 帳號也可以用\n",
      "   </a>\n",
      "  </h4>\n",
      " </header>\n",
      " <!-- .entry-header -->\n",
      " <footer class=\"entry-footer\">\n",
      "  <span class=\"posted-on\">\n",
      "   <span class=\"screen-reader-text\">\n",
      "    Posted on\n",
      "   </span>\n",
      "   <time class=\"entry-date published\" datetime=\"2020-04-27T13:57:29+08:00\">\n",
      "    2020/04/27\n",
      "   </time>\n",
      "   <time class=\"updated\" datetime=\"2020-04-27T13:58:41+08:00\">\n",
      "    2020/04/27\n",
      "   </time>\n",
      "  </span>\n",
      "  <span class=\"shareCount\">\n",
      "   29 分享\n",
      "  </span>\n",
      " </footer>\n",
      " <!-- .entry-footer -->\n",
      "</article>\n",
      "<!-- #post-## -->\n",
      "<article class=\"post-328095 type-post status-publish format-standard has-post-thumbnail hentry category-uncategorized tag-coursera tag-hahow tag-21566 tag-edubiz_elearning tag-17514\" id=\"post-328095\">\n",
      " <a aria-hidden=\"true\" class=\"post-thumbnail nljf\" data-src=\"https://buzzorange.com/techorange/wp-content/uploads/sites/2/2020/04/1500x500-e1587956006269.webp?jpeg\" href=\"https://buzzorange.com/techorange/2020/04/27/hahow-and-couresa-free-courses/\" onclick=\"ga('send', 'event', 'TO Home Posts', 'Click', '【上課、拿認證費用全免】線上教學平台 Coursera 釋出 3,800 堂免費課程幫失業者紓困', {'nonInteraction': 1});\">\n",
      " </a>\n",
      " <header class=\"entry-header\">\n",
      "  <span class=\"posted-on\">\n",
      "   <span class=\"screen-reader-text\">\n",
      "    Posted on\n",
      "   </span>\n",
      "   <time class=\"entry-date published\" datetime=\"2020-04-27T12:08:26+08:00\">\n",
      "    2020/04/27\n",
      "   </time>\n",
      "   <time class=\"updated\" datetime=\"2020-04-27T12:12:46+08:00\">\n",
      "    2020/04/27\n",
      "   </time>\n",
      "  </span>\n",
      "  <h4 class=\"entry-title\">\n",
      "   <a href=\"https://buzzorange.com/techorange/2020/04/27/hahow-and-couresa-free-courses/\" onclick=\"ga('send', 'event', 'TO Home Posts', 'Click', '【上課、拿認證費用全免】線上教學平台 Coursera 釋出 3,800 堂免費課程幫失業者紓困', {'nonInteraction': 1});\" rel=\"bookmark\">\n",
      "    【上課、拿認證費用全免】線上教學平台 Coursera 釋出 3,800 堂免費課程幫失業者紓困\n",
      "   </a>\n",
      "  </h4>\n",
      " </header>\n",
      " <!-- .entry-header -->\n",
      " <footer class=\"entry-footer\">\n",
      "  <span class=\"posted-on\">\n",
      "   <span class=\"screen-reader-text\">\n",
      "    Posted on\n",
      "   </span>\n",
      "   <time class=\"entry-date published\" datetime=\"2020-04-27T12:08:26+08:00\">\n",
      "    2020/04/27\n",
      "   </time>\n",
      "   <time class=\"updated\" datetime=\"2020-04-27T12:12:46+08:00\">\n",
      "    2020/04/27\n",
      "   </time>\n",
      "  </span>\n",
      "  <span class=\"shareCount\">\n",
      "   523 分享\n",
      "  </span>\n",
      " </footer>\n",
      " <!-- .entry-footer -->\n",
      "</article>\n",
      "<!-- #post-## -->\n",
      "<article class=\"post-328102 type-post status-publish format-standard has-post-thumbnail hentry category-uncategorized tag-brand_5g tag-ai tag-mram tag-14306 tag-brand_tsmc tag-22565 tag-17227\" id=\"post-328102\">\n",
      " <a aria-hidden=\"true\" class=\"post-thumbnail nljf\" data-src=\"https://buzzorange.com/techorange/wp-content/uploads/sites/2/2020/04/memory-332492_1280.webp?jpg\" href=\"https://buzzorange.com/techorange/2020/04/27/mram-advantage/\" onclick=\"ga('send', 'event', 'TO Home Posts', 'Click', 'MRAM 可微縮到 10 奈米以下，被半導體界視為「夢幻記憶體」技術', {'nonInteraction': 1});\">\n",
      " </a>\n",
      " <header class=\"entry-header\">\n",
      "  <span class=\"posted-on\">\n",
      "   <span class=\"screen-reader-text\">\n",
      "    Posted on\n",
      "   </span>\n",
      "   <time class=\"entry-date published\" datetime=\"2020-04-27T12:05:11+08:00\">\n",
      "    2020/04/27\n",
      "   </time>\n",
      "   <time class=\"updated\" datetime=\"2020-04-27T12:10:34+08:00\">\n",
      "    2020/04/27\n",
      "   </time>\n",
      "  </span>\n",
      "  <h4 class=\"entry-title\">\n",
      "   <a href=\"https://buzzorange.com/techorange/2020/04/27/mram-advantage/\" onclick=\"ga('send', 'event', 'TO Home Posts', 'Click', 'MRAM 可微縮到 10 奈米以下，被半導體界視為「夢幻記憶體」技術', {'nonInteraction': 1});\" rel=\"bookmark\">\n",
      "    MRAM 可微縮到 10 奈米以下，被半導體界視為「夢幻記憶體」技術\n",
      "   </a>\n",
      "  </h4>\n",
      " </header>\n",
      " <!-- .entry-header -->\n",
      " <footer class=\"entry-footer\">\n",
      "  <span class=\"posted-on\">\n",
      "   <span class=\"screen-reader-text\">\n",
      "    Posted on\n",
      "   </span>\n",
      "   <time class=\"entry-date published\" datetime=\"2020-04-27T12:05:11+08:00\">\n",
      "    2020/04/27\n",
      "   </time>\n",
      "   <time class=\"updated\" datetime=\"2020-04-27T12:10:34+08:00\">\n",
      "    2020/04/27\n",
      "   </time>\n",
      "  </span>\n",
      "  <span class=\"shareCount\">\n",
      "   1.3 K 分享\n",
      "  </span>\n",
      " </footer>\n",
      " <!-- .entry-footer -->\n",
      "</article>\n",
      "<!-- #post-## -->\n",
      "<article class=\"post-328098 type-post status-publish format-standard has-post-thumbnail hentry category-uncategorized tag-gogoro tag-gogoro- tag-22930 tag-23724 tag-14536\" id=\"post-328098\">\n",
      " <a aria-hidden=\"true\" class=\"post-thumbnail nljf\" data-src=\"https://buzzorange.com/techorange/wp-content/uploads/sites/2/2020/04/Gogoro_Smart_Electric_Scooter_24451127336.webp?jpg\" href=\"https://buzzorange.com/techorange/2020/04/27/gogoro-battery-issue/\" onclick=\"ga('send', 'event', 'TO Home Posts', 'Click', '能不能用「騎到飽」方案跑外送？Gogoro：總里程數不要連 2 個月超過 1,600 公里', {'nonInteraction': 1});\">\n",
      " </a>\n",
      " <header class=\"entry-header\">\n",
      "  <span class=\"posted-on\">\n",
      "   <span class=\"screen-reader-text\">\n",
      "    Posted on\n",
      "   </span>\n",
      "   <time class=\"entry-date published updated\" datetime=\"2020-04-27T11:20:23+08:00\">\n",
      "    2020/04/27\n",
      "   </time>\n",
      "  </span>\n",
      "  <h4 class=\"entry-title\">\n",
      "   <a href=\"https://buzzorange.com/techorange/2020/04/27/gogoro-battery-issue/\" onclick=\"ga('send', 'event', 'TO Home Posts', 'Click', '能不能用「騎到飽」方案跑外送？Gogoro：總里程數不要連 2 個月超過 1,600 公里', {'nonInteraction': 1});\" rel=\"bookmark\">\n",
      "    能不能用「騎到飽」方案跑外送？Gogoro：總里程數不要連 2 個月超過 1,600 公里\n",
      "   </a>\n",
      "  </h4>\n",
      " </header>\n",
      " <!-- .entry-header -->\n",
      " <footer class=\"entry-footer\">\n",
      "  <span class=\"posted-on\">\n",
      "   <span class=\"screen-reader-text\">\n",
      "    Posted on\n",
      "   </span>\n",
      "   <time class=\"entry-date published updated\" datetime=\"2020-04-27T11:20:23+08:00\">\n",
      "    2020/04/27\n",
      "   </time>\n",
      "  </span>\n",
      "  <span class=\"shareCount\">\n",
      "   68 分享\n",
      "  </span>\n",
      " </footer>\n",
      " <!-- .entry-footer -->\n",
      "</article>\n",
      "<!-- #post-## -->\n",
      "<article class=\"post-328048 type-post status-publish format-standard hentry category-uncategorized tag-ibm tag-windows tag-software_os tag-14511 tag-16739 tag-14807\" id=\"post-328048\">\n",
      " <a aria-hidden=\"true\" class=\"post-thumbnail nljf\" data-src=\"\" href=\"https://buzzorange.com/techorange/2020/04/24/the-business-of-platforms/\" onclick=\"ga('send', 'event', 'TO Home Posts', 'Click', '比爾蓋茲拿下作業系統大餅的策略：靠「平台佈局」養大市場', {'nonInteraction': 1});\">\n",
      " </a>\n",
      " <header class=\"entry-header\">\n",
      "  <span class=\"posted-on\">\n",
      "   <span class=\"screen-reader-text\">\n",
      "    Posted on\n",
      "   </span>\n",
      "   <time class=\"entry-date published updated\" datetime=\"2020-04-24T19:10:52+08:00\">\n",
      "    2020/04/24\n",
      "   </time>\n",
      "  </span>\n",
      "  <h4 class=\"entry-title\">\n",
      "   <a href=\"https://buzzorange.com/techorange/2020/04/24/the-business-of-platforms/\" onclick=\"ga('send', 'event', 'TO Home Posts', 'Click', '比爾蓋茲拿下作業系統大餅的策略：靠「平台佈局」養大市場', {'nonInteraction': 1});\" rel=\"bookmark\">\n",
      "    比爾蓋茲拿下作業系統大餅的策略：靠「平台佈局」養大市場\n",
      "   </a>\n",
      "  </h4>\n",
      " </header>\n",
      " <!-- .entry-header -->\n",
      " <footer class=\"entry-footer\">\n",
      "  <span class=\"posted-on\">\n",
      "   <span class=\"screen-reader-text\">\n",
      "    Posted on\n",
      "   </span>\n",
      "   <time class=\"entry-date published updated\" datetime=\"2020-04-24T19:10:52+08:00\">\n",
      "    2020/04/24\n",
      "   </time>\n",
      "  </span>\n",
      "  <span class=\"shareCount\">\n",
      "   1.2 K 分享\n",
      "  </span>\n",
      " </footer>\n",
      " <!-- .entry-footer -->\n",
      "</article>\n",
      "<!-- #post-## -->\n",
      "<article class=\"post-328071 type-post status-publish format-standard has-post-thumbnail hentry category-uncategorized tag-saas tag-suknowhow_bizmodel tag-17742 tag-34760 tag-14938\" id=\"post-328071\">\n",
      " <a aria-hidden=\"true\" class=\"post-thumbnail nljf\" data-src=\"https://buzzorange.com/techorange/wp-content/uploads/sites/2/2020/04/laptop-desk-notebook-computer-macbook-mac-1083812-pxhere.com_.webp?jpg\" href=\"https://buzzorange.com/techorange/2020/04/24/saas-business-model/\" onclick=\"ga('send', 'event', 'TO Home Posts', 'Click', 'SaaS 催生的商業模式變革：網路公司推出「訂閱制」，替客戶吸收軟硬體成本', {'nonInteraction': 1});\">\n",
      " </a>\n",
      " <header class=\"entry-header\">\n",
      "  <span class=\"posted-on\">\n",
      "   <span class=\"screen-reader-text\">\n",
      "    Posted on\n",
      "   </span>\n",
      "   <time class=\"entry-date published updated\" datetime=\"2020-04-24T18:08:12+08:00\">\n",
      "    2020/04/24\n",
      "   </time>\n",
      "  </span>\n",
      "  <h4 class=\"entry-title\">\n",
      "   <a href=\"https://buzzorange.com/techorange/2020/04/24/saas-business-model/\" onclick=\"ga('send', 'event', 'TO Home Posts', 'Click', 'SaaS 催生的商業模式變革：網路公司推出「訂閱制」，替客戶吸收軟硬體成本', {'nonInteraction': 1});\" rel=\"bookmark\">\n",
      "    SaaS 催生的商業模式變革：網路公司推出「訂閱制」，替客戶吸收軟硬體成本\n",
      "   </a>\n",
      "  </h4>\n",
      " </header>\n",
      " <!-- .entry-header -->\n",
      " <footer class=\"entry-footer\">\n",
      "  <span class=\"posted-on\">\n",
      "   <span class=\"screen-reader-text\">\n",
      "    Posted on\n",
      "   </span>\n",
      "   <time class=\"entry-date published updated\" datetime=\"2020-04-24T18:08:12+08:00\">\n",
      "    2020/04/24\n",
      "   </time>\n",
      "  </span>\n",
      "  <span class=\"shareCount\">\n",
      "   63 分享\n",
      "  </span>\n",
      " </footer>\n",
      " <!-- .entry-footer -->\n",
      "</article>\n",
      "<!-- #post-## -->\n",
      "<article class=\"post-328082 type-post status-publish format-standard has-post-thumbnail hentry category-uncategorized tag-brand_apple tag-arm tag-28727 tag-35433 tag-16789\" id=\"post-328082\">\n",
      " <a aria-hidden=\"true\" class=\"post-thumbnail nljf\" data-src=\"https://buzzorange.com/techorange/wp-content/uploads/sites/2/2020/04/david-latorre-romero-0tNF_mHm_Ls-unsplash.webp?jpg\" href=\"https://buzzorange.com/techorange/2020/04/24/new-mac-12core-processor/\" onclick=\"ga('send', 'event', 'TO Home Posts', 'Click', '【和平分手】傳新一代 Mac 不再使用 Intel，將搭配自製 12 核處理器', {'nonInteraction': 1});\">\n",
      " </a>\n",
      " <header class=\"entry-header\">\n",
      "  <span class=\"posted-on\">\n",
      "   <span class=\"screen-reader-text\">\n",
      "    Posted on\n",
      "   </span>\n",
      "   <time class=\"entry-date published\" datetime=\"2020-04-24T18:07:34+08:00\">\n",
      "    2020/04/24\n",
      "   </time>\n",
      "   <time class=\"updated\" datetime=\"2020-04-24T19:06:15+08:00\">\n",
      "    2020/04/24\n",
      "   </time>\n",
      "  </span>\n",
      "  <h4 class=\"entry-title\">\n",
      "   <a href=\"https://buzzorange.com/techorange/2020/04/24/new-mac-12core-processor/\" onclick=\"ga('send', 'event', 'TO Home Posts', 'Click', '【和平分手】傳新一代 Mac 不再使用 Intel，將搭配自製 12 核處理器', {'nonInteraction': 1});\" rel=\"bookmark\">\n",
      "    【和平分手】傳新一代 Mac 不再使用 Intel，將搭配自製 12 核處理器\n",
      "   </a>\n",
      "  </h4>\n",
      " </header>\n",
      " <!-- .entry-header -->\n",
      " <footer class=\"entry-footer\">\n",
      "  <span class=\"posted-on\">\n",
      "   <span class=\"screen-reader-text\">\n",
      "    Posted on\n",
      "   </span>\n",
      "   <time class=\"entry-date published\" datetime=\"2020-04-24T18:07:34+08:00\">\n",
      "    2020/04/24\n",
      "   </time>\n",
      "   <time class=\"updated\" datetime=\"2020-04-24T19:06:15+08:00\">\n",
      "    2020/04/24\n",
      "   </time>\n",
      "  </span>\n",
      "  <span class=\"shareCount\">\n",
      "   185 分享\n",
      "  </span>\n",
      " </footer>\n",
      " <!-- .entry-footer -->\n",
      "</article>\n",
      "<!-- #post-## -->\n",
      "\n"
     ]
    }
   ],
   "source": [
    "from bs4 import BeautifulSoup\n",
    "\n",
    "soup = BeautifulSoup(json_data['data'], 'html.parser')\n",
    "print(soup.prettify())"
   ]
  },
  {
   "cell_type": "code",
   "execution_count": 19,
   "metadata": {},
   "outputs": [
    {
     "data": {
      "text/plain": [
       "[<h4 class=\"entry-title\"><a href=\"https://buzzorange.com/techorange/2020/04/27/switch-console-diy/\" onclick=\"ga('send', 'event', 'TO Home Posts', 'Click', '買不到 Switch 主機？神人自己買零件組裝，成本只要 6000 台幣', {'nonInteraction': 1});\" rel=\"bookmark\">買不到 Switch 主機？神人自己買零件組裝，成本只要 6000 台幣</a></h4>,\n",
       " <h4 class=\"entry-title\"><a href=\"https://buzzorange.com/techorange/2020/04/27/facebook-messenger-rooms/\" onclick=\"ga('send', 'event', 'TO Home Posts', 'Click', '【最多 50 人通話】臉書推出視訊服務 Messenger Rooms，沒 FB 帳號也可以用', {'nonInteraction': 1});\" rel=\"bookmark\">【最多 50 人通話】臉書推出視訊服務 Messenger Rooms，沒 FB 帳號也可以用</a></h4>,\n",
       " <h4 class=\"entry-title\"><a href=\"https://buzzorange.com/techorange/2020/04/27/hahow-and-couresa-free-courses/\" onclick=\"ga('send', 'event', 'TO Home Posts', 'Click', '【上課、拿認證費用全免】線上教學平台 Coursera 釋出 3,800 堂免費課程幫失業者紓困', {'nonInteraction': 1});\" rel=\"bookmark\">【上課、拿認證費用全免】線上教學平台 Coursera 釋出 3,800 堂免費課程幫失業者紓困</a></h4>,\n",
       " <h4 class=\"entry-title\"><a href=\"https://buzzorange.com/techorange/2020/04/27/mram-advantage/\" onclick=\"ga('send', 'event', 'TO Home Posts', 'Click', 'MRAM 可微縮到 10 奈米以下，被半導體界視為「夢幻記憶體」技術', {'nonInteraction': 1});\" rel=\"bookmark\">MRAM 可微縮到 10 奈米以下，被半導體界視為「夢幻記憶體」技術</a></h4>,\n",
       " <h4 class=\"entry-title\"><a href=\"https://buzzorange.com/techorange/2020/04/27/gogoro-battery-issue/\" onclick=\"ga('send', 'event', 'TO Home Posts', 'Click', '能不能用「騎到飽」方案跑外送？Gogoro：總里程數不要連 2 個月超過 1,600 公里', {'nonInteraction': 1});\" rel=\"bookmark\">能不能用「騎到飽」方案跑外送？Gogoro：總里程數不要連 2 個月超過 1,600 公里</a></h4>,\n",
       " <h4 class=\"entry-title\"><a href=\"https://buzzorange.com/techorange/2020/04/24/the-business-of-platforms/\" onclick=\"ga('send', 'event', 'TO Home Posts', 'Click', '比爾蓋茲拿下作業系統大餅的策略：靠「平台佈局」養大市場', {'nonInteraction': 1});\" rel=\"bookmark\">比爾蓋茲拿下作業系統大餅的策略：靠「平台佈局」養大市場</a></h4>,\n",
       " <h4 class=\"entry-title\"><a href=\"https://buzzorange.com/techorange/2020/04/24/saas-business-model/\" onclick=\"ga('send', 'event', 'TO Home Posts', 'Click', 'SaaS 催生的商業模式變革：網路公司推出「訂閱制」，替客戶吸收軟硬體成本', {'nonInteraction': 1});\" rel=\"bookmark\">SaaS 催生的商業模式變革：網路公司推出「訂閱制」，替客戶吸收軟硬體成本</a></h4>,\n",
       " <h4 class=\"entry-title\"><a href=\"https://buzzorange.com/techorange/2020/04/24/new-mac-12core-processor/\" onclick=\"ga('send', 'event', 'TO Home Posts', 'Click', '【和平分手】傳新一代 Mac 不再使用 Intel，將搭配自製 12 核處理器', {'nonInteraction': 1});\" rel=\"bookmark\">【和平分手】傳新一代 Mac 不再使用 Intel，將搭配自製 12 核處理器</a></h4>]"
      ]
     },
     "execution_count": 19,
     "metadata": {},
     "output_type": "execute_result"
    }
   ],
   "source": [
    "soup.select('h4')"
   ]
  },
  {
   "cell_type": "code",
   "execution_count": 20,
   "metadata": {},
   "outputs": [
    {
     "data": {
      "text/plain": [
       "<h4 class=\"entry-title\"><a href=\"https://buzzorange.com/techorange/2020/04/27/switch-console-diy/\" onclick=\"ga('send', 'event', 'TO Home Posts', 'Click', '買不到 Switch 主機？神人自己買零件組裝，成本只要 6000 台幣', {'nonInteraction': 1});\" rel=\"bookmark\">買不到 Switch 主機？神人自己買零件組裝，成本只要 6000 台幣</a></h4>"
      ]
     },
     "execution_count": 20,
     "metadata": {},
     "output_type": "execute_result"
    }
   ],
   "source": [
    "soup.select('h4')[0]"
   ]
  },
  {
   "cell_type": "code",
   "execution_count": 21,
   "metadata": {},
   "outputs": [
    {
     "data": {
      "text/plain": [
       "'買不到 Switch 主機？神人自己買零件組裝，成本只要 6000 台幣'"
      ]
     },
     "execution_count": 21,
     "metadata": {},
     "output_type": "execute_result"
    }
   ],
   "source": [
    "soup.select('h4')[0].text"
   ]
  },
  {
   "cell_type": "code",
   "execution_count": 24,
   "metadata": {},
   "outputs": [
    {
     "data": {
      "text/plain": [
       "'https://buzzorange.com/techorange/2020/04/27/switch-console-diy/'"
      ]
     },
     "execution_count": 24,
     "metadata": {},
     "output_type": "execute_result"
    }
   ],
   "source": [
    "soup.select('h4')[0].a['href']"
   ]
  },
  {
   "cell_type": "code",
   "execution_count": 28,
   "metadata": {
    "scrolled": false
   },
   "outputs": [
    {
     "name": "stdout",
     "output_type": "stream",
     "text": [
      "{'action': 'fm_ajax_load_more', 'nonce': '025c2d58ba', 'page': '1'}\n",
      "++++++++++++\n",
      "【立即上路】疫情紓困申貸門檻評分制，達 60 分最高申請 10 萬\n",
      "https://buzzorange.com/techorange/2020/04/30/govt-debt-labour-430/\n",
      "========\n",
      "看好數位內容市場，流線傳媒與達勝資本共同宣布完成策略投資合作\n",
      "https://buzzorange.com/techorange/2020/04/30/fusionmedium-and-khl-announce-strategic-investment-cooperation/\n",
      "========\n",
      "接種卡介苗能避免感染新冠肺炎？哈佛、台灣聯手研究\n",
      "https://buzzorange.com/techorange/2020/04/30/bcg-vaccination-anti-covid19/\n",
      "========\n",
      "【五一連假防疫戰】若 1968 APP「人潮警示」通過壓力測試，台灣可再樹立防疫新典範\n",
      "https://buzzorange.com/techorange/2020/04/29/1968-app-covid19/\n",
      "========\n",
      "《Nature》公布研究：中國 1 月就公開疫情能減少 95% 影響\n",
      "https://buzzorange.com/techorange/2020/04/29/nature-china-reduce-95/\n",
      "========\n",
      "【技能樹開展】Discord 開放 50 人線上語音，開會、上課也可以用啦！\n",
      "https://buzzorange.com/techorange/2020/04/29/discord-for-long-distance/\n",
      "========\n",
      "【真頑強】華為總裁放話：300 年讓內建「HMS 系統」超越蘋果\n",
      "https://buzzorange.com/techorange/2020/04/29/huawei-hms-os-300-years/\n",
      "========\n",
      "有必要把程式語法背熟嗎？資深工程師：其實你更需要 Google 的能力\n",
      "https://buzzorange.com/techorange/2020/04/29/learn-new-programming-language/\n",
      "========\n",
      "{'action': 'fm_ajax_load_more', 'nonce': '025c2d58ba', 'page': '2'}\n",
      "++++++++++++\n",
      "【抗疫三大藥】藥物法匹拉韋可望抗新冠病毒，日本無償提供 38 國受惠\n",
      "https://buzzorange.com/techorange/2020/04/29/japan-vaccine-favipiravir/\n",
      "========\n",
      "中國頒布《網路安全審查辦法》，可以「國家安全」為由禁止購買美國技術、產品\n",
      "https://buzzorange.com/techorange/2020/04/29/chinese-censor-and-anti-america/\n",
      "========\n",
      "「募資」真的萬靈丹？AppWorks 解析銀行借貸、創投募資好壞大公開\n",
      "https://buzzorange.com/techorange/2020/04/29/debt-financing-startup/\n",
      "========\n",
      "中國央行將推行數位貨幣！專家：它不會去中心化，而是強化國家對金融的管控\n",
      "https://buzzorange.com/techorange/2020/04/29/china-central-bank-virtual-currency/\n",
      "========\n",
      "免用讀卡機！今年開放 4 大超商可報稅，還可享繳稅購物優惠\n",
      "https://buzzorange.com/techorange/2020/04/29/file-tax-05/\n",
      "========\n",
      "外媒指科技防疫太「極權」，外交部神回：台灣是最透明的國家\n",
      "https://buzzorange.com/techorange/2020/04/29/foriegn-minister-condemn-reporter/\n",
      "========\n",
      "從新創企業到大公司，各種工程師會用到的數據分析工具統統整理給你！\n",
      "https://buzzorange.com/techorange/2020/04/28/data-analytics-tools/\n",
      "========\n",
      "【念力？】MIT 用「肌肉訊號」控制無人機，讓它精準穿過 3 個小環\n",
      "https://buzzorange.com/techorange/2020/04/28/robot-muscle-control/\n",
      "========\n",
      "{'action': 'fm_ajax_load_more', 'nonce': '025c2d58ba', 'page': '3'}\n",
      "++++++++++++\n",
      "【防疫升級】澳洲啟用監控追蹤 APP，記錄用戶行蹤和接觸過什麼人\n",
      "https://buzzorange.com/techorange/2020/04/28/australia-covidsafe/\n",
      "========\n",
      "【手機時代的紙本新體驗】沒有影音設備的冰島航空公司，如何用「筆記本」提升乘客滿意度？\n",
      "https://buzzorange.com/techorange/2020/04/28/writing-innovation/\n",
      "========\n",
      "【每半年換手機？】5G 時代 3 個射頻技術趨勢：使用氮化鎵縮小晶片尺寸，採模組化加速手機上市\n",
      "https://buzzorange.com/techorange/2020/04/28/radia-frequency-smartphones/\n",
      "========\n",
      "【疫情讓營收消失 9 成】雄獅就地轉型生活產業，目標：國內營收成長 3 倍\n",
      "https://buzzorange.com/techorange/2020/04/28/lion-group-transformation/\n",
      "========\n",
      "【洗腎不用進醫院！】靠著雲端科技，洗腎族群有哪些「遠距治療」數位新選擇？\n",
      "https://buzzorange.com/techorange/2020/04/28/kidney-dialysis-tech/\n",
      "========\n",
      "【數位身分證延後換發】晶片由台積電生產，卻因疫情無法引進高防偽晶片卡技術\n",
      "https://buzzorange.com/techorange/2020/04/28/digital-identification-card-postpone/\n",
      "========\n",
      "【4/29 直播】新冠肺炎重震科技圈，台灣中小企業撐得過大蕭條嗎？\n",
      "https://buzzorange.com/techorange/2020/04/27/coronavirus-tech-sme/\n",
      "========\n",
      "電動車將產生 1,100 萬噸的電池垃圾，「回收技術」是未來的研究重點\n",
      "https://buzzorange.com/techorange/2020/04/27/electric-car-bettery-recycling/\n",
      "========\n",
      "{'action': 'fm_ajax_load_more', 'nonce': '025c2d58ba', 'page': '4'}\n",
      "++++++++++++\n",
      "【一鍵斗內超簡單欸】陳時中新創舉！開放 App 可以直接捐贈口罩給全世界\n",
      "https://buzzorange.com/techorange/2020/04/27/donate-masks-2-0/\n",
      "========\n",
      "如何在視訊會議時「靜音」吃洋芋片？微軟團隊用 AI 幫你消音\n",
      "https://buzzorange.com/techorange/2020/04/27/microsoft-audio-filter-system/\n",
      "========\n",
      "【照片動動動起來】Google 跟柏克萊用 Python 寫出全新讓靜態圖 2D 轉 3D 的無痛方式！\n",
      "https://buzzorange.com/techorange/2020/04/27/google-berkeley-360-3d-photos/\n",
      "========\n",
      "買不到 Switch 主機？神人自己買零件組裝，成本只要 6000 台幣\n",
      "https://buzzorange.com/techorange/2020/04/27/switch-console-diy/\n",
      "========\n",
      "【最多 50 人通話】臉書推出視訊服務 Messenger Rooms，沒 FB 帳號也可以用\n",
      "https://buzzorange.com/techorange/2020/04/27/facebook-messenger-rooms/\n",
      "========\n",
      "【上課、拿認證費用全免】線上教學平台 Coursera 釋出 3,800 堂免費課程幫失業者紓困\n",
      "https://buzzorange.com/techorange/2020/04/27/hahow-and-couresa-free-courses/\n",
      "========\n",
      "MRAM 可微縮到 10 奈米以下，被半導體界視為「夢幻記憶體」技術\n",
      "https://buzzorange.com/techorange/2020/04/27/mram-advantage/\n",
      "========\n",
      "能不能用「騎到飽」方案跑外送？Gogoro：總里程數不要連 2 個月超過 1,600 公里\n",
      "https://buzzorange.com/techorange/2020/04/27/gogoro-battery-issue/\n",
      "========\n",
      "{'action': 'fm_ajax_load_more', 'nonce': '025c2d58ba', 'page': '5'}\n",
      "++++++++++++\n",
      "比爾蓋茲拿下作業系統大餅的策略：靠「平台佈局」養大市場\n",
      "https://buzzorange.com/techorange/2020/04/24/the-business-of-platforms/\n",
      "========\n",
      "SaaS 催生的商業模式變革：網路公司推出「訂閱制」，替客戶吸收軟硬體成本\n",
      "https://buzzorange.com/techorange/2020/04/24/saas-business-model/\n",
      "========\n",
      "【和平分手】傳新一代 Mac 不再使用 Intel，將搭配自製 12 核處理器\n",
      "https://buzzorange.com/techorange/2020/04/24/new-mac-12core-processor/\n",
      "========\n",
      "蘋果用戶小心！網路釣魚最愛仿冒蘋果，攻擊比率從 2% 衝到 10%\n",
      "https://buzzorange.com/techorange/2020/04/24/apple-netflix-site-scam/\n",
      "========\n",
      "為何英國每週日的死亡人數都會下降？4 個新冠肺炎教我的數據科學知識\n",
      "https://buzzorange.com/techorange/2020/04/24/covid-19-data-analysis/\n",
      "========\n",
      "百位學者連署反對！一文解析數位身分證的 4 個資安疑慮\n",
      "https://buzzorange.com/techorange/2020/04/24/anti-digital-identification-card/\n",
      "========\n",
      "【中國式手段？】WHO 網撤瑞德西韋在中國臨床結果，藥廠股價應聲下挫\n",
      "https://buzzorange.com/techorange/2020/04/24/gilead-remdesivir/\n",
      "========\n",
      "打開空白電郵可能「被駭」！iPhone、iPad 證實有資安漏洞，iOS 13.4.5 將修補漏洞 \n",
      "https://buzzorange.com/techorange/2020/04/24/iphone-ipad-security-bug/\n",
      "========\n"
     ]
    }
   ],
   "source": [
    "import json\n",
    "import requests\n",
    "from bs4 import BeautifulSoup\n",
    "\n",
    "headers = {'User-Agent': 'Mozilla/5.0 (Macintosh; Intel Mac OS X 10_15_3) AppleWebKit/537.36 (KHTML, like Gecko) Chrome/80.0.3987.163 Safari/537.36'}\n",
    "url = 'https://buzzorange.com/techorange/wp-admin/admin-ajax.php'\n",
    "\n",
    "post_data_str = '''action: fm_ajax_load_more\n",
    "nonce: 025c2d58ba\n",
    "page: 4'''\n",
    "\n",
    "post_data = {r.split(': ')[0]: r.split(': ')[1] for r in post_data_str.split('\\n')}\n",
    "\n",
    "for p in range(1, 6):\n",
    "    post_data['page'] = str(p)\n",
    "    print(post_data)\n",
    "    print('++++++++++++')\n",
    "    \n",
    "    res = requests.post(url, headers=headers, data=post_data)\n",
    "\n",
    "    json_data = json.loads(res.text)\n",
    "\n",
    "    soup = BeautifulSoup(json_data['data'], 'html.parser')\n",
    "\n",
    "    for t in soup.select('h4'):\n",
    "        article_title = t.text\n",
    "        article_url = t.a['href']\n",
    "        print(article_title)\n",
    "        print(article_url)\n",
    "        print('========')\n",
    "    "
   ]
  },
  {
   "cell_type": "code",
   "execution_count": null,
   "metadata": {},
   "outputs": [],
   "source": []
  }
 ],
 "metadata": {
  "kernelspec": {
   "display_name": "Python 3",
   "language": "python",
   "name": "python3"
  },
  "language_info": {
   "codemirror_mode": {
    "name": "ipython",
    "version": 3
   },
   "file_extension": ".py",
   "mimetype": "text/x-python",
   "name": "python",
   "nbconvert_exporter": "python",
   "pygments_lexer": "ipython3",
   "version": "3.7.0"
  }
 },
 "nbformat": 4,
 "nbformat_minor": 4
}

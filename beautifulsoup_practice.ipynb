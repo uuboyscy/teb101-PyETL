{
 "cells": [
  {
   "cell_type": "code",
   "execution_count": 2,
   "metadata": {},
   "outputs": [],
   "source": [
    "import requests\n",
    "from bs4 import BeautifulSoup"
   ]
  },
  {
   "cell_type": "code",
   "execution_count": 3,
   "metadata": {},
   "outputs": [],
   "source": [
    "headers = {'User-Agent': 'Mozilla/5.0 (Macintosh; Intel Mac OS X 10_15_3) AppleWebKit/537.36 (KHTML, like Gecko) Chrome/80.0.3987.163 Safari/537.36'}\n",
    "url = 'https://www.ptt.cc/bbs/Baseball/index.html'"
   ]
  },
  {
   "cell_type": "code",
   "execution_count": 4,
   "metadata": {},
   "outputs": [],
   "source": [
    "res = requests.get(url=url, headers=headers)"
   ]
  },
  {
   "cell_type": "code",
   "execution_count": 5,
   "metadata": {},
   "outputs": [
    {
     "name": "stdout",
     "output_type": "stream",
     "text": [
      "<Response [200]>\n"
     ]
    }
   ],
   "source": [
    "print(res)"
   ]
  },
  {
   "cell_type": "code",
   "execution_count": 6,
   "metadata": {},
   "outputs": [
    {
     "data": {
      "text/plain": [
       "<!DOCTYPE html>\n",
       "\n",
       "<html>\n",
       "<head>\n",
       "<meta charset=\"utf-8\"/>\n",
       "<meta content=\"width=device-width, initial-scale=1\" name=\"viewport\"/>\n",
       "<title>看板 Baseball 文章列表 - 批踢踢實業坊</title>\n",
       "<link href=\"//images.ptt.cc/bbs/v2.27/bbs-common.css\" rel=\"stylesheet\" type=\"text/css\"/>\n",
       "<link href=\"//images.ptt.cc/bbs/v2.27/bbs-base.css\" media=\"screen\" rel=\"stylesheet\" type=\"text/css\"/>\n",
       "<link href=\"//images.ptt.cc/bbs/v2.27/bbs-custom.css\" rel=\"stylesheet\" type=\"text/css\"/>\n",
       "<link href=\"//images.ptt.cc/bbs/v2.27/pushstream.css\" media=\"screen\" rel=\"stylesheet\" type=\"text/css\"/>\n",
       "<link href=\"//images.ptt.cc/bbs/v2.27/bbs-print.css\" media=\"print\" rel=\"stylesheet\" type=\"text/css\"/>\n",
       "<script async=\"\" src=\"/cdn-cgi/bm/cv/2172558837/api.js\"></script></head>\n",
       "<body>\n",
       "<div id=\"topbar-container\">\n",
       "<div class=\"bbs-content\" id=\"topbar\">\n",
       "<a href=\"/bbs/\" id=\"logo\">批踢踢實業坊</a>\n",
       "<span>›</span>\n",
       "<a class=\"board\" href=\"/bbs/Baseball/index.html\"><span class=\"board-label\">看板 </span>Baseball</a>\n",
       "<a class=\"right small\" href=\"/about.html\">關於我們</a>\n",
       "<a class=\"right small\" href=\"/contact.html\">聯絡資訊</a>\n",
       "</div>\n",
       "</div>\n",
       "<div id=\"main-container\">\n",
       "<div id=\"action-bar-container\">\n",
       "<div class=\"action-bar\">\n",
       "<div class=\"btn-group btn-group-dir\">\n",
       "<a class=\"btn selected\" href=\"/bbs/Baseball/index.html\">看板</a>\n",
       "<a class=\"btn\" href=\"/man/Baseball/index.html\">精華區</a>\n",
       "</div>\n",
       "<div class=\"btn-group btn-group-paging\">\n",
       "<a class=\"btn wide\" href=\"/bbs/Baseball/index1.html\">最舊</a>\n",
       "<a class=\"btn wide\" href=\"/bbs/Baseball/index9998.html\">‹ 上頁</a>\n",
       "<a class=\"btn wide disabled\">下頁 ›</a>\n",
       "<a class=\"btn wide\" href=\"/bbs/Baseball/index.html\">最新</a>\n",
       "</div>\n",
       "</div>\n",
       "</div>\n",
       "<div class=\"r-list-container action-bar-margin bbs-screen\">\n",
       "<div class=\"search-bar\">\n",
       "<form action=\"search\" id=\"search-bar\" type=\"get\">\n",
       "<input class=\"query\" name=\"q\" placeholder=\"搜尋文章⋯\" type=\"text\" value=\"\"/>\n",
       "</form>\n",
       "</div>\n",
       "<div class=\"r-ent\">\n",
       "<div class=\"nrec\"><span class=\"hl f2\">3</span></div>\n",
       "<div class=\"title\">\n",
       "<a href=\"/bbs/Baseball/M.1587855526.A.642.html\">[新聞] 打線雙豪慢熱 丘總不著急</a>\n",
       "</div>\n",
       "<div class=\"meta\">\n",
       "<div class=\"author\">shiaubai</div>\n",
       "<div class=\"article-menu\">\n",
       "<div class=\"trigger\">⋯</div>\n",
       "<div class=\"dropdown\">\n",
       "<div class=\"item\"><a href=\"/bbs/Baseball/search?q=thread%3A%5B%E6%96%B0%E8%81%9E%5D+%E6%89%93%E7%B7%9A%E9%9B%99%E8%B1%AA%E6%85%A2%E7%86%B1+%E4%B8%98%E7%B8%BD%E4%B8%8D%E8%91%97%E6%80%A5\">搜尋同標題文章</a></div>\n",
       "<div class=\"item\"><a href=\"/bbs/Baseball/search?q=author%3Ashiaubai\">搜尋看板內 shiaubai 的文章</a></div>\n",
       "</div>\n",
       "</div>\n",
       "<div class=\"date\"> 4/26</div>\n",
       "<div class=\"mark\"></div>\n",
       "</div>\n",
       "</div>\n",
       "<div class=\"r-ent\">\n",
       "<div class=\"nrec\"><span class=\"hl f3\">10</span></div>\n",
       "<div class=\"title\">\n",
       "<a href=\"/bbs/Baseball/M.1587860809.A.69B.html\">[新聞] 統一洋投向加媒讚台灣防疫 慶幸還能養家</a>\n",
       "</div>\n",
       "<div class=\"meta\">\n",
       "<div class=\"author\">PttGod</div>\n",
       "<div class=\"article-menu\">\n",
       "<div class=\"trigger\">⋯</div>\n",
       "<div class=\"dropdown\">\n",
       "<div class=\"item\"><a href=\"/bbs/Baseball/search?q=thread%3A%5B%E6%96%B0%E8%81%9E%5D+%E7%B5%B1%E4%B8%80%E6%B4%8B%E6%8A%95%E5%90%91%E5%8A%A0%E5%AA%92%E8%AE%9A%E5%8F%B0%E7%81%A3%E9%98%B2%E7%96%AB+%E6%85%B6%E5%B9%B8%E9%82%84%E8%83%BD%E9%A4%8A%E5%AE%B6\">搜尋同標題文章</a></div>\n",
       "<div class=\"item\"><a href=\"/bbs/Baseball/search?q=author%3APttGod\">搜尋看板內 PttGod 的文章</a></div>\n",
       "</div>\n",
       "</div>\n",
       "<div class=\"date\"> 4/26</div>\n",
       "<div class=\"mark\"></div>\n",
       "</div>\n",
       "</div>\n",
       "<div class=\"r-ent\">\n",
       "<div class=\"nrec\"><span class=\"hl f3\">19</span></div>\n",
       "<div class=\"title\">\n",
       "<a href=\"/bbs/Baseball/M.1587861083.A.D2D.html\">[新聞] SPC-中職》「真的很幸運」費爾本登加國媒</a>\n",
       "</div>\n",
       "<div class=\"meta\">\n",
       "<div class=\"author\">Toyosushij</div>\n",
       "<div class=\"article-menu\">\n",
       "<div class=\"trigger\">⋯</div>\n",
       "<div class=\"dropdown\">\n",
       "<div class=\"item\"><a href=\"/bbs/Baseball/search?q=thread%3A%5B%E6%96%B0%E8%81%9E%5D+SPC-%E4%B8%AD%E8%81%B7%E3%80%8B%E3%80%8C%E7%9C%9F%E7%9A%84%E5%BE%88%E5%B9%B8%E9%81%8B%E3%80%8D%E8%B2%BB%E7%88%BE%E6%9C%AC%E7%99%BB%E5%8A%A0%E5%9C%8B%E5%AA%92\">搜尋同標題文章</a></div>\n",
       "<div class=\"item\"><a href=\"/bbs/Baseball/search?q=author%3AToyosushij\">搜尋看板內 Toyosushij 的文章</a></div>\n",
       "</div>\n",
       "</div>\n",
       "<div class=\"date\"> 4/26</div>\n",
       "<div class=\"mark\"></div>\n",
       "</div>\n",
       "</div>\n",
       "<div class=\"r-ent\">\n",
       "<div class=\"nrec\"><span class=\"hl f3\">26</span></div>\n",
       "<div class=\"title\">\n",
       "<a href=\"/bbs/Baseball/M.1587862405.A.785.html\">[討論] 李振昌的合約是不是超值？</a>\n",
       "</div>\n",
       "<div class=\"meta\">\n",
       "<div class=\"author\">PttGod</div>\n",
       "<div class=\"article-menu\">\n",
       "<div class=\"trigger\">⋯</div>\n",
       "<div class=\"dropdown\">\n",
       "<div class=\"item\"><a href=\"/bbs/Baseball/search?q=thread%3A%5B%E8%A8%8E%E8%AB%96%5D+%E6%9D%8E%E6%8C%AF%E6%98%8C%E7%9A%84%E5%90%88%E7%B4%84%E6%98%AF%E4%B8%8D%E6%98%AF%E8%B6%85%E5%80%BC%EF%BC%9F\">搜尋同標題文章</a></div>\n",
       "<div class=\"item\"><a href=\"/bbs/Baseball/search?q=author%3APttGod\">搜尋看板內 PttGod 的文章</a></div>\n",
       "</div>\n",
       "</div>\n",
       "<div class=\"date\"> 4/26</div>\n",
       "<div class=\"mark\"></div>\n",
       "</div>\n",
       "</div>\n",
       "<div class=\"r-ent\">\n",
       "<div class=\"nrec\"><span class=\"hl f3\">19</span></div>\n",
       "<div class=\"title\">\n",
       "<a href=\"/bbs/Baseball/M.1587864167.A.934.html\">[分享] CPBL歷年開季前18場 HR排行榜</a>\n",
       "</div>\n",
       "<div class=\"meta\">\n",
       "<div class=\"author\">carhow</div>\n",
       "<div class=\"article-menu\">\n",
       "<div class=\"trigger\">⋯</div>\n",
       "<div class=\"dropdown\">\n",
       "<div class=\"item\"><a href=\"/bbs/Baseball/search?q=thread%3A%5B%E5%88%86%E4%BA%AB%5D+CPBL%E6%AD%B7%E5%B9%B4%E9%96%8B%E5%AD%A3%E5%89%8D18%E5%A0%B4+HR%E6%8E%92%E8%A1%8C%E6%A6%9C\">搜尋同標題文章</a></div>\n",
       "<div class=\"item\"><a href=\"/bbs/Baseball/search?q=author%3Acarhow\">搜尋看板內 carhow 的文章</a></div>\n",
       "</div>\n",
       "</div>\n",
       "<div class=\"date\"> 4/26</div>\n",
       "<div class=\"mark\"></div>\n",
       "</div>\n",
       "</div>\n",
       "<div class=\"r-ent\">\n",
       "<div class=\"nrec\"><span class=\"hl f3\">18</span></div>\n",
       "<div class=\"title\">\n",
       "<a href=\"/bbs/Baseball/M.1587864784.A.E73.html\">[新聞] 中職／朱育賢8戰8轟 日媒：要來日職嗎？</a>\n",
       "</div>\n",
       "<div class=\"meta\">\n",
       "<div class=\"author\">LIN9</div>\n",
       "<div class=\"article-menu\">\n",
       "<div class=\"trigger\">⋯</div>\n",
       "<div class=\"dropdown\">\n",
       "<div class=\"item\"><a href=\"/bbs/Baseball/search?q=thread%3A%5B%E6%96%B0%E8%81%9E%5D+%E4%B8%AD%E8%81%B7%EF%BC%8F%E6%9C%B1%E8%82%B2%E8%B3%A28%E6%88%B08%E8%BD%9F+%E6%97%A5%E5%AA%92%EF%BC%9A%E8%A6%81%E4%BE%86%E6%97%A5%E8%81%B7%E5%97%8E%EF%BC%9F\">搜尋同標題文章</a></div>\n",
       "<div class=\"item\"><a href=\"/bbs/Baseball/search?q=author%3ALIN9\">搜尋看板內 LIN9 的文章</a></div>\n",
       "</div>\n",
       "</div>\n",
       "<div class=\"date\"> 4/26</div>\n",
       "<div class=\"mark\"></div>\n",
       "</div>\n",
       "</div>\n",
       "<div class=\"r-ent\">\n",
       "<div class=\"nrec\"><span class=\"hl f2\">1</span></div>\n",
       "<div class=\"title\">\n",
       "<a href=\"/bbs/Baseball/M.1587865321.A.E58.html\">[討論] 朱育賢的穩定度</a>\n",
       "</div>\n",
       "<div class=\"meta\">\n",
       "<div class=\"author\">YenFuOne</div>\n",
       "<div class=\"article-menu\">\n",
       "<div class=\"trigger\">⋯</div>\n",
       "<div class=\"dropdown\">\n",
       "<div class=\"item\"><a href=\"/bbs/Baseball/search?q=thread%3A%5B%E8%A8%8E%E8%AB%96%5D+%E6%9C%B1%E8%82%B2%E8%B3%A2%E7%9A%84%E7%A9%A9%E5%AE%9A%E5%BA%A6\">搜尋同標題文章</a></div>\n",
       "<div class=\"item\"><a href=\"/bbs/Baseball/search?q=author%3AYenFuOne\">搜尋看板內 YenFuOne 的文章</a></div>\n",
       "</div>\n",
       "</div>\n",
       "<div class=\"date\"> 4/26</div>\n",
       "<div class=\"mark\"></div>\n",
       "</div>\n",
       "</div>\n",
       "<div class=\"r-ent\">\n",
       "<div class=\"nrec\"><span class=\"hl f2\">2</span></div>\n",
       "<div class=\"title\">\n",
       "<a href=\"/bbs/Baseball/M.1587866028.A.16E.html\">[討論] 朱育賢會升職嗎？</a>\n",
       "</div>\n",
       "<div class=\"meta\">\n",
       "<div class=\"author\">allen9527</div>\n",
       "<div class=\"article-menu\">\n",
       "<div class=\"trigger\">⋯</div>\n",
       "<div class=\"dropdown\">\n",
       "<div class=\"item\"><a href=\"/bbs/Baseball/search?q=thread%3A%5B%E8%A8%8E%E8%AB%96%5D+%E6%9C%B1%E8%82%B2%E8%B3%A2%E6%9C%83%E5%8D%87%E8%81%B7%E5%97%8E%EF%BC%9F\">搜尋同標題文章</a></div>\n",
       "<div class=\"item\"><a href=\"/bbs/Baseball/search?q=author%3Aallen9527\">搜尋看板內 allen9527 的文章</a></div>\n",
       "</div>\n",
       "</div>\n",
       "<div class=\"date\"> 4/26</div>\n",
       "<div class=\"mark\"></div>\n",
       "</div>\n",
       "</div>\n",
       "<div class=\"r-ent\">\n",
       "<div class=\"nrec\"><span class=\"hl f3\">11</span></div>\n",
       "<div class=\"title\">\n",
       "<a href=\"/bbs/Baseball/M.1587866124.A.156.html\">[討論] 統一真的需要ibb朱育賢？</a>\n",
       "</div>\n",
       "<div class=\"meta\">\n",
       "<div class=\"author\">asxc530530</div>\n",
       "<div class=\"article-menu\">\n",
       "<div class=\"trigger\">⋯</div>\n",
       "<div class=\"dropdown\">\n",
       "<div class=\"item\"><a href=\"/bbs/Baseball/search?q=thread%3A%5B%E8%A8%8E%E8%AB%96%5D+%E7%B5%B1%E4%B8%80%E7%9C%9F%E7%9A%84%E9%9C%80%E8%A6%81ibb%E6%9C%B1%E8%82%B2%E8%B3%A2%EF%BC%9F\">搜尋同標題文章</a></div>\n",
       "<div class=\"item\"><a href=\"/bbs/Baseball/search?q=author%3Aasxc530530\">搜尋看板內 asxc530530 的文章</a></div>\n",
       "</div>\n",
       "</div>\n",
       "<div class=\"date\"> 4/26</div>\n",
       "<div class=\"mark\"></div>\n",
       "</div>\n",
       "</div>\n",
       "<div class=\"r-ent\">\n",
       "<div class=\"nrec\"></div>\n",
       "<div class=\"title\">\n",
       "<a href=\"/bbs/Baseball/M.1587867209.A.015.html\">[討論] 昨天林航在致敬遠山獎志嗎？</a>\n",
       "</div>\n",
       "<div class=\"meta\">\n",
       "<div class=\"author\">barry610171</div>\n",
       "<div class=\"article-menu\">\n",
       "<div class=\"trigger\">⋯</div>\n",
       "<div class=\"dropdown\">\n",
       "<div class=\"item\"><a href=\"/bbs/Baseball/search?q=thread%3A%5B%E8%A8%8E%E8%AB%96%5D+%E6%98%A8%E5%A4%A9%E6%9E%97%E8%88%AA%E5%9C%A8%E8%87%B4%E6%95%AC%E9%81%A0%E5%B1%B1%E7%8D%8E%E5%BF%97%E5%97%8E%EF%BC%9F\">搜尋同標題文章</a></div>\n",
       "<div class=\"item\"><a href=\"/bbs/Baseball/search?q=author%3Abarry610171\">搜尋看板內 barry610171 的文章</a></div>\n",
       "</div>\n",
       "</div>\n",
       "<div class=\"date\"> 4/26</div>\n",
       "<div class=\"mark\"></div>\n",
       "</div>\n",
       "</div>\n",
       "<div class=\"r-list-sep\"></div>\n",
       "<div class=\"r-ent\">\n",
       "<div class=\"nrec\"></div>\n",
       "<div class=\"title\">\n",
       "<a href=\"/bbs/Baseball/M.1553011929.A.F3C.html\">[公告] 板規/即時資訊</a>\n",
       "</div>\n",
       "<div class=\"meta\">\n",
       "<div class=\"author\">tmlc</div>\n",
       "<div class=\"article-menu\">\n",
       "<div class=\"trigger\">⋯</div>\n",
       "<div class=\"dropdown\">\n",
       "<div class=\"item\"><a href=\"/bbs/Baseball/search?q=thread%3A%5B%E5%85%AC%E5%91%8A%5D+%E6%9D%BF%E8%A6%8F%2F%E5%8D%B3%E6%99%82%E8%B3%87%E8%A8%8A\">搜尋同標題文章</a></div>\n",
       "<div class=\"item\"><a href=\"/bbs/Baseball/search?q=author%3Atmlc\">搜尋看板內 tmlc 的文章</a></div>\n",
       "</div>\n",
       "</div>\n",
       "<div class=\"date\"> 3/20</div>\n",
       "<div class=\"mark\">!</div>\n",
       "</div>\n",
       "</div>\n",
       "<div class=\"r-ent\">\n",
       "<div class=\"nrec\"><span class=\"hl f3\">33</span></div>\n",
       "<div class=\"title\">\n",
       "<a href=\"/bbs/Baseball/M.1577808376.A.417.html\">[整理] 2020棒球賽事轉播節目表</a>\n",
       "</div>\n",
       "<div class=\"meta\">\n",
       "<div class=\"author\">johnnyckvs</div>\n",
       "<div class=\"article-menu\">\n",
       "<div class=\"trigger\">⋯</div>\n",
       "<div class=\"dropdown\">\n",
       "<div class=\"item\"><a href=\"/bbs/Baseball/search?q=thread%3A%5B%E6%95%B4%E7%90%86%5D+2020%E6%A3%92%E7%90%83%E8%B3%BD%E4%BA%8B%E8%BD%89%E6%92%AD%E7%AF%80%E7%9B%AE%E8%A1%A8\">搜尋同標題文章</a></div>\n",
       "<div class=\"item\"><a href=\"/bbs/Baseball/search?q=author%3Ajohnnyckvs\">搜尋看板內 johnnyckvs 的文章</a></div>\n",
       "</div>\n",
       "</div>\n",
       "<div class=\"date\"> 1/01</div>\n",
       "<div class=\"mark\">!</div>\n",
       "</div>\n",
       "</div>\n",
       "<div class=\"r-ent\">\n",
       "<div class=\"nrec\"><span class=\"hl f3\">20</span></div>\n",
       "<div class=\"title\">\n",
       "<a href=\"/bbs/Baseball/M.1585731161.A.97C.html\">[賽程] 2020中華職棒31年 第三版賽程表</a>\n",
       "</div>\n",
       "<div class=\"meta\">\n",
       "<div class=\"author\">hicker</div>\n",
       "<div class=\"article-menu\">\n",
       "<div class=\"trigger\">⋯</div>\n",
       "<div class=\"dropdown\">\n",
       "<div class=\"item\"><a href=\"/bbs/Baseball/search?q=thread%3A%5B%E8%B3%BD%E7%A8%8B%5D+2020%E4%B8%AD%E8%8F%AF%E8%81%B7%E6%A3%9231%E5%B9%B4+%E7%AC%AC%E4%B8%89%E7%89%88%E8%B3%BD%E7%A8%8B%E8%A1%A8\">搜尋同標題文章</a></div>\n",
       "<div class=\"item\"><a href=\"/bbs/Baseball/search?q=author%3Ahicker\">搜尋看板內 hicker 的文章</a></div>\n",
       "</div>\n",
       "</div>\n",
       "<div class=\"date\"> 4/01</div>\n",
       "<div class=\"mark\"></div>\n",
       "</div>\n",
       "</div>\n",
       "<div class=\"r-ent\">\n",
       "<div class=\"nrec\"></div>\n",
       "<div class=\"title\">\n",
       "<a href=\"/bbs/Baseball/M.1587820318.A.293.html\">[公告] Baseball 板 開始舉辦樂透!</a>\n",
       "</div>\n",
       "<div class=\"meta\">\n",
       "<div class=\"author\">tmlc</div>\n",
       "<div class=\"article-menu\">\n",
       "<div class=\"trigger\">⋯</div>\n",
       "<div class=\"dropdown\">\n",
       "<div class=\"item\"><a href=\"/bbs/Baseball/search?q=thread%3A%5B%E5%85%AC%E5%91%8A%5D+Baseball+%E6%9D%BF+%E9%96%8B%E5%A7%8B%E8%88%89%E8%BE%A6%E6%A8%82%E9%80%8F%21\">搜尋同標題文章</a></div>\n",
       "<div class=\"item\"><a href=\"/bbs/Baseball/search?q=author%3Atmlc\">搜尋看板內 tmlc 的文章</a></div>\n",
       "</div>\n",
       "</div>\n",
       "<div class=\"date\"> 4/25</div>\n",
       "<div class=\"mark\"></div>\n",
       "</div>\n",
       "</div>\n",
       "<div class=\"r-ent\">\n",
       "<div class=\"nrec\"><span class=\"hl f2\">2</span></div>\n",
       "<div class=\"title\">\n",
       "<a href=\"/bbs/Baseball/M.1583311612.A.BC0.html\">[賽程] 2020中華職棒31年 二軍賽程表(~7/05)</a>\n",
       "</div>\n",
       "<div class=\"meta\">\n",
       "<div class=\"author\">hicker</div>\n",
       "<div class=\"article-menu\">\n",
       "<div class=\"trigger\">⋯</div>\n",
       "<div class=\"dropdown\">\n",
       "<div class=\"item\"><a href=\"/bbs/Baseball/search?q=thread%3A%5B%E8%B3%BD%E7%A8%8B%5D+2020%E4%B8%AD%E8%8F%AF%E8%81%B7%E6%A3%9231%E5%B9%B4+%E4%BA%8C%E8%BB%8D%E8%B3%BD%E7%A8%8B%E8%A1%A8%28~7%2F05%29\">搜尋同標題文章</a></div>\n",
       "<div class=\"item\"><a href=\"/bbs/Baseball/search?q=author%3Ahicker\">搜尋看板內 hicker 的文章</a></div>\n",
       "</div>\n",
       "</div>\n",
       "<div class=\"date\"> 3/04</div>\n",
       "<div class=\"mark\">M</div>\n",
       "</div>\n",
       "</div>\n",
       "</div>\n",
       "</div>\n",
       "<script>\n",
       "  (function(i,s,o,g,r,a,m){i['GoogleAnalyticsObject']=r;i[r]=i[r]||function(){\n",
       "  (i[r].q=i[r].q||[]).push(arguments)},i[r].l=1*new Date();a=s.createElement(o),\n",
       "  m=s.getElementsByTagName(o)[0];a.async=1;a.src=g;m.parentNode.insertBefore(a,m)\n",
       "  })(window,document,'script','https://www.google-analytics.com/analytics.js','ga');\n",
       "\n",
       "  ga('create', 'UA-32365737-1', {\n",
       "    cookieDomain: 'ptt.cc',\n",
       "    legacyCookieDomain: 'ptt.cc'\n",
       "  });\n",
       "  ga('send', 'pageview');\n",
       "</script>\n",
       "<script src=\"//ajax.googleapis.com/ajax/libs/jquery/2.1.1/jquery.min.js\"></script>\n",
       "<script src=\"//images.ptt.cc/bbs/v2.27/bbs.js\"></script>\n",
       "<script type=\"text/javascript\">(function(){window['__CF$cv$params']={r:'589ccdec5936d1cf',m:'35ffc8dfbbf3a5149e44f3d4dbc5c3abb84c17da-1587867414-1800-AW77dA2nCRRlhy4Cq1heSV7qsWTJuLJohIQt+OmfYHOYt+uA65ZNB3hRWdtm2xJhr0jMoUf/HOC2+6JRuWQz4QqCG4s1LY/IpxH7/L2PEiWVNafA3bYQn0Ehdq2uLaiFrClPzqrvJwpVqFh34OLBi9s=',s:[0xaa7f344f70,0xe3cbf6c9f3],fb:0,}})();</script></body>\n",
       "</html>"
      ]
     },
     "execution_count": 6,
     "metadata": {},
     "output_type": "execute_result"
    }
   ],
   "source": [
    "soup = BeautifulSoup(res.text, 'html.parser')\n",
    "soup"
   ]
  },
  {
   "cell_type": "code",
   "execution_count": 8,
   "metadata": {},
   "outputs": [
    {
     "data": {
      "text/plain": [
       "[<a href=\"/bbs/\" id=\"logo\">批踢踢實業坊</a>]"
      ]
     },
     "execution_count": 8,
     "metadata": {},
     "output_type": "execute_result"
    }
   ],
   "source": [
    "soup.findAll('a', id='logo')"
   ]
  },
  {
   "cell_type": "code",
   "execution_count": 10,
   "metadata": {},
   "outputs": [
    {
     "data": {
      "text/plain": [
       "'批踢踢實業坊'"
      ]
     },
     "execution_count": 10,
     "metadata": {},
     "output_type": "execute_result"
    }
   ],
   "source": [
    "soup.findAll('a', id='logo')[0].text"
   ]
  },
  {
   "cell_type": "code",
   "execution_count": 13,
   "metadata": {},
   "outputs": [
    {
     "data": {
      "text/plain": [
       "'https://www.ptt.cc/bbs/'"
      ]
     },
     "execution_count": 13,
     "metadata": {},
     "output_type": "execute_result"
    }
   ],
   "source": [
    "'https://www.ptt.cc' + soup.findAll('a', id='logo')[0]['href']"
   ]
  },
  {
   "cell_type": "code",
   "execution_count": 14,
   "metadata": {},
   "outputs": [
    {
     "data": {
      "text/plain": [
       "'logo'"
      ]
     },
     "execution_count": 14,
     "metadata": {},
     "output_type": "execute_result"
    }
   ],
   "source": [
    "soup.findAll('a', id='logo')[0]['id']"
   ]
  },
  {
   "cell_type": "code",
   "execution_count": 15,
   "metadata": {},
   "outputs": [
    {
     "data": {
      "text/plain": [
       "[<a href=\"/bbs/\" id=\"logo\">批踢踢實業坊</a>]"
      ]
     },
     "execution_count": 15,
     "metadata": {},
     "output_type": "execute_result"
    }
   ],
   "source": [
    "soup.select('a#logo')"
   ]
  },
  {
   "cell_type": "code",
   "execution_count": 16,
   "metadata": {},
   "outputs": [
    {
     "data": {
      "text/plain": [
       "[<a href=\"/bbs/\" id=\"logo\">批踢踢實業坊</a>]"
      ]
     },
     "execution_count": 16,
     "metadata": {},
     "output_type": "execute_result"
    }
   ],
   "source": [
    "soup.select('a[id=\"logo\"]')"
   ]
  },
  {
   "cell_type": "code",
   "execution_count": null,
   "metadata": {},
   "outputs": [],
   "source": []
  }
 ],
 "metadata": {
  "kernelspec": {
   "display_name": "Python 3",
   "language": "python",
   "name": "python3"
  },
  "language_info": {
   "codemirror_mode": {
    "name": "ipython",
    "version": 3
   },
   "file_extension": ".py",
   "mimetype": "text/x-python",
   "name": "python",
   "nbconvert_exporter": "python",
   "pygments_lexer": "ipython3",
   "version": "3.7.0"
  }
 },
 "nbformat": 4,
 "nbformat_minor": 4
}

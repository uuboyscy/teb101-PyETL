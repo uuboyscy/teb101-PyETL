{
 "cells": [
  {
   "cell_type": "code",
   "execution_count": 1,
   "metadata": {},
   "outputs": [],
   "source": [
    "import requests\n",
    "from bs4 import BeautifulSoup\n",
    "\n",
    "headers = {'User-Agent': 'Mozilla/5.0 (Macintosh; Intel Mac OS X 10_15_3) AppleWebKit/537.36 (KHTML, like Gecko) Chrome/80.0.3987.163 Safari/537.36'}\n",
    "\n",
    "url = 'http://acaca582.ngrok.io/hello_post'"
   ]
  },
  {
   "cell_type": "code",
   "execution_count": 2,
   "metadata": {
    "scrolled": false
   },
   "outputs": [
    {
     "name": "stdout",
     "output_type": "stream",
     "text": [
      "\n",
      "    <!doctype html>\n",
      "    <title>Hello, World!</title>\n",
      "    <h1>Hello, your name is ?</h1>\n",
      "    <p></p>\n",
      "    <form action=\"/hello_post\" method=\"post\">\n",
      "    <label>Name:</label>\n",
      "    <input type=\"textbox\" name=\"username\">\n",
      "    <input type=\"submit\" value=\"Submit\">\n",
      "    </form>\n",
      "    \n"
     ]
    }
   ],
   "source": [
    "res = requests.get(url)\n",
    "print(res.text)"
   ]
  },
  {
   "cell_type": "code",
   "execution_count": 3,
   "metadata": {},
   "outputs": [
    {
     "name": "stdout",
     "output_type": "stream",
     "text": [
      "\n",
      "    <!doctype html>\n",
      "    <title>Hello, World!</title>\n",
      "    <h1>Hello, your name is ?</h1>\n",
      "    <p></p>\n",
      "    <form action=\"/hello_post\" method=\"post\">\n",
      "    <label>Name:</label>\n",
      "    <input type=\"textbox\" name=\"username\">\n",
      "    <input type=\"submit\" value=\"Submit\">\n",
      "    </form>\n",
      "    \n",
      "    <h1>Hello Allen !!</h1>\n",
      "    \n"
     ]
    }
   ],
   "source": [
    "data = {'username': 'Allen'}\n",
    "res = requests.post(url, data=data)\n",
    "print(res.text)"
   ]
  },
  {
   "cell_type": "code",
   "execution_count": 11,
   "metadata": {},
   "outputs": [],
   "source": [
    "s = \"\"\"method: search\n",
    "searchMethod: true\n",
    "searchTarget: ATM\n",
    "orgName: ghjgvbnbm\n",
    "orgId: 123123123\n",
    "hid_1: 1\n",
    "tenderName: 12345678\n",
    "tenderId: \n",
    "tenderStatus: 5,6,20,28\n",
    "tenderWay: \n",
    "awardAnnounceStartDate: 109/04/26\n",
    "awardAnnounceEndDate: 109/04/26\n",
    "proctrgCate: \n",
    "tenderRange: \n",
    "minBudget: \n",
    "maxBudget: \n",
    "item: fgjhghjghj\n",
    "hid_2: 1\n",
    "gottenVendorName: \n",
    "gottenVendorId: \n",
    "hid_3: 1\n",
    "submitVendorName: \n",
    "submitVendorId: \n",
    "location: \n",
    "execLocationArea: \n",
    "priorityCate: \n",
    "isReConstruct: \n",
    "btnQuery: 查詢\"\"\""
   ]
  },
  {
   "cell_type": "code",
   "execution_count": 5,
   "metadata": {
    "scrolled": true
   },
   "outputs": [
    {
     "data": {
      "text/plain": [
       "{'method': 'search',\n",
       " 'searchMethod': 'true',\n",
       " 'searchTarget': 'ATM',\n",
       " 'orgName': 'ghjgvbnbm',\n",
       " 'orgId': '123123123',\n",
       " 'hid_1': '1',\n",
       " 'tenderName': '12345678',\n",
       " 'tenderId': '',\n",
       " 'tenderStatus': '5,6,20,28',\n",
       " 'tenderWay': '',\n",
       " 'awardAnnounceStartDate': '109/04/26',\n",
       " 'awardAnnounceEndDate': '109/04/26',\n",
       " 'proctrgCate': '',\n",
       " 'tenderRange': '',\n",
       " 'minBudget': '',\n",
       " 'maxBudget': '',\n",
       " 'item': 'fgjhghjghj',\n",
       " 'hid_2': '1',\n",
       " 'gottenVendorName': '',\n",
       " 'gottenVendorId': '',\n",
       " 'hid_3': '1',\n",
       " 'submitVendorName': '',\n",
       " 'submitVendorId': '',\n",
       " 'location': '',\n",
       " 'execLocationArea': '',\n",
       " 'priorityCate': '',\n",
       " 'isReConstruct': '',\n",
       " 'btnQuery': '查詢'}"
      ]
     },
     "execution_count": 5,
     "metadata": {},
     "output_type": "execute_result"
    }
   ],
   "source": [
    "data = {}\n",
    "for r in s.split('\\n'):\n",
    "    data[r.split(': ')[0]] =  r.split(': ')[1]\n",
    "    \n",
    "data"
   ]
  },
  {
   "cell_type": "code",
   "execution_count": 6,
   "metadata": {
    "scrolled": true
   },
   "outputs": [
    {
     "data": {
      "text/plain": [
       "{'method': 'search',\n",
       " 'searchMethod': 'true',\n",
       " 'searchTarget': 'ATM',\n",
       " 'orgName': 'ghjgvbnbm',\n",
       " 'orgId': '123123123',\n",
       " 'hid_1': '1',\n",
       " 'tenderName': '12345678',\n",
       " 'tenderId': '',\n",
       " 'tenderStatus': '5,6,20,28',\n",
       " 'tenderWay': '',\n",
       " 'awardAnnounceStartDate': '109/04/26',\n",
       " 'awardAnnounceEndDate': '109/04/26',\n",
       " 'proctrgCate': '',\n",
       " 'tenderRange': '',\n",
       " 'minBudget': '',\n",
       " 'maxBudget': '',\n",
       " 'item': 'fgjhghjghj',\n",
       " 'hid_2': '1',\n",
       " 'gottenVendorName': '',\n",
       " 'gottenVendorId': '',\n",
       " 'hid_3': '1',\n",
       " 'submitVendorName': '',\n",
       " 'submitVendorId': '',\n",
       " 'location': '',\n",
       " 'execLocationArea': '',\n",
       " 'priorityCate': '',\n",
       " 'isReConstruct': '',\n",
       " 'btnQuery': '查詢'}"
      ]
     },
     "execution_count": 6,
     "metadata": {},
     "output_type": "execute_result"
    }
   ],
   "source": [
    "{r.split(': ')[0]: r.split(': ')[1] for r in s.split('\\n')}"
   ]
  },
  {
   "cell_type": "code",
   "execution_count": null,
   "metadata": {},
   "outputs": [],
   "source": []
  }
 ],
 "metadata": {
  "kernelspec": {
   "display_name": "Python 3",
   "language": "python",
   "name": "python3"
  },
  "language_info": {
   "codemirror_mode": {
    "name": "ipython",
    "version": 3
   },
   "file_extension": ".py",
   "mimetype": "text/x-python",
   "name": "python",
   "nbconvert_exporter": "python",
   "pygments_lexer": "ipython3",
   "version": "3.7.0"
  }
 },
 "nbformat": 4,
 "nbformat_minor": 4
}

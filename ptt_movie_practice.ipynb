{
 "cells": [
  {
   "cell_type": "code",
   "execution_count": 2,
   "metadata": {},
   "outputs": [],
   "source": [
    "import requests\n",
    "from bs4 import BeautifulSoup\n",
    "\n",
    "headers = {'User-Agent': 'Mozilla/5.0 (Macintosh; Intel Mac OS X 10_15_3) AppleWebKit/537.36 (KHTML, like Gecko) Chrome/80.0.3987.163 Safari/537.36'}\n",
    "url = 'https://www.ptt.cc/bbs/movie/index.html'\n",
    "\n",
    "res = requests.get(url, headers=headers)\n",
    "soup = BeautifulSoup(res.text, 'html.parser')"
   ]
  },
  {
   "cell_type": "code",
   "execution_count": 4,
   "metadata": {
    "scrolled": true
   },
   "outputs": [
    {
     "data": {
      "text/plain": [
       "[<div class=\"title\">\n",
       " <a href=\"/bbs/movie/M.1587822679.A.00D.html\">[選片] 假面騎士/數碼寶貝 該看哪部</a>\n",
       " </div>,\n",
       " <div class=\"title\">\n",
       " <a href=\"/bbs/movie/M.1587825096.A.7B7.html\">[問片] 炸大樓地板偷保險櫃結果後來黑吃黑</a>\n",
       " </div>,\n",
       " <div class=\"title\">\n",
       " <a href=\"/bbs/movie/M.1587825997.A.269.html\">[討論] 吳磊是不是很適合演Peter Parker</a>\n",
       " </div>,\n",
       " <div class=\"title\">\n",
       " <a href=\"/bbs/movie/M.1587826160.A.955.html\">[討論] 各位心中有什麼必哭的片段嗎？</a>\n",
       " </div>,\n",
       " <div class=\"title\">\n",
       " <a href=\"/bbs/movie/M.1587826662.A.31C.html\">[情報] 2020 德國電影獎 蘿拉獎 得獎名單</a>\n",
       " </div>,\n",
       " <div class=\"title\">\n",
       " <a href=\"/bbs/movie/M.1587829297.A.9A6.html\">[討論] 來讀星際大戰IX Duel of the Fates 6</a>\n",
       " </div>,\n",
       " <div class=\"title\">\n",
       " <a href=\"/bbs/movie/M.1587829959.A.E1B.html\">[好雷] Before sunrise 和 Before sunset</a>\n",
       " </div>,\n",
       " <div class=\"title\">\n",
       " <a href=\"/bbs/movie/M.1587830799.A.F01.html\">[問片] 2012年以前的英語系電影</a>\n",
       " </div>,\n",
       " <div class=\"title\">\n",
       " <a href=\"/bbs/movie/M.1587832086.A.174.html\">[討論] 哪一部電影沒續集最可惜</a>\n",
       " </div>,\n",
       " <div class=\"title\">\n",
       " <a href=\"/bbs/movie/M.1587832185.A.510.html\">[情報] 天氣之子2D&amp;IMAX 重新上映 </a>\n",
       " </div>,\n",
       " <div class=\"title\">\n",
       " <a href=\"/bbs/movie/M.1587833235.A.979.html\">[討論] 柯南劇場版</a>\n",
       " </div>,\n",
       " <div class=\"title\">\n",
       " <a href=\"/bbs/movie/M.1587836234.A.68F.html\">[普雷] 長沙里之戰:被遺忘的英雄</a>\n",
       " </div>,\n",
       " <div class=\"title\">\n",
       " <a href=\"/bbs/movie/M.1587837472.A.BAD.html\">Re: [討論] 星艦戰將最大的bug是什麼?</a>\n",
       " </div>,\n",
       " <div class=\"title\">\n",
       " <a href=\"/bbs/movie/M.1587841108.A.74A.html\">[好雷] 武士搬家好吃驚</a>\n",
       " </div>,\n",
       " <div class=\"title\">\n",
       " <a href=\"/bbs/movie/M.1587851317.A.C12.html\">[問片] 一部為兒子復仇的電影</a>\n",
       " </div>,\n",
       " <div class=\"title\">\n",
       " <a href=\"/bbs/movie/M.1587867403.A.05D.html\">[新聞] 美國戲院不急重開大門 等7月大片《天能》</a>\n",
       " </div>,\n",
       " <div class=\"title\">\n",
       " <a href=\"/bbs/movie/M.1559611458.A.DCA.html\">[公告] 板規 2020/03/01 (增加14.1)</a>\n",
       " </div>,\n",
       " <div class=\"title\">\n",
       " <a href=\"/bbs/movie/M.1565855832.A.0A7.html\">[公告] 板規新增每日發文上限規定</a>\n",
       " </div>,\n",
       " <div class=\"title\">\n",
       " <a href=\"/bbs/movie/M.1578684521.A.1B8.html\">[公告] 關於跑步哥</a>\n",
       " </div>,\n",
       " <div class=\"title\">\n",
       " <a href=\"/bbs/movie/M.1584946598.A.41F.html\">[板規] 串流平台情報規範</a>\n",
       " </div>]"
      ]
     },
     "execution_count": 4,
     "metadata": {},
     "output_type": "execute_result"
    }
   ],
   "source": [
    "soup.select('div.title')"
   ]
  },
  {
   "cell_type": "code",
   "execution_count": 5,
   "metadata": {},
   "outputs": [
    {
     "data": {
      "text/plain": [
       "<div class=\"title\">\n",
       "<a href=\"/bbs/movie/M.1587822679.A.00D.html\">[選片] 假面騎士/數碼寶貝 該看哪部</a>\n",
       "</div>"
      ]
     },
     "execution_count": 5,
     "metadata": {},
     "output_type": "execute_result"
    }
   ],
   "source": [
    "soup.select('div.title')[0]"
   ]
  },
  {
   "cell_type": "code",
   "execution_count": 6,
   "metadata": {},
   "outputs": [
    {
     "data": {
      "text/plain": [
       "[<a href=\"/bbs/movie/M.1587822679.A.00D.html\">[選片] 假面騎士/數碼寶貝 該看哪部</a>]"
      ]
     },
     "execution_count": 6,
     "metadata": {},
     "output_type": "execute_result"
    }
   ],
   "source": [
    "title = soup.select('div.title')[0]\n",
    "title.select('a')"
   ]
  },
  {
   "cell_type": "code",
   "execution_count": 7,
   "metadata": {},
   "outputs": [
    {
     "data": {
      "text/plain": [
       "'[選片] 假面騎士/數碼寶貝 該看哪部'"
      ]
     },
     "execution_count": 7,
     "metadata": {},
     "output_type": "execute_result"
    }
   ],
   "source": [
    "title.select('a')[0].text"
   ]
  },
  {
   "cell_type": "code",
   "execution_count": 10,
   "metadata": {},
   "outputs": [
    {
     "data": {
      "text/plain": [
       "'https://www.ptt.cc/bbs/movie/M.1587822679.A.00D.html'"
      ]
     },
     "execution_count": 10,
     "metadata": {},
     "output_type": "execute_result"
    }
   ],
   "source": [
    "'https://www.ptt.cc' + title.select('a')[0]['href']"
   ]
  },
  {
   "cell_type": "code",
   "execution_count": 13,
   "metadata": {},
   "outputs": [
    {
     "name": "stdout",
     "output_type": "stream",
     "text": [
      "[選片] 假面騎士/數碼寶貝 該看哪部\n",
      "https://www.ptt.cc/bbs/movie/M.1587822679.A.00D.html\n",
      "=====================\n",
      "[問片] 炸大樓地板偷保險櫃結果後來黑吃黑\n",
      "https://www.ptt.cc/bbs/movie/M.1587825096.A.7B7.html\n",
      "=====================\n",
      "[討論] 吳磊是不是很適合演Peter Parker\n",
      "https://www.ptt.cc/bbs/movie/M.1587825997.A.269.html\n",
      "=====================\n",
      "[討論] 各位心中有什麼必哭的片段嗎？\n",
      "https://www.ptt.cc/bbs/movie/M.1587826160.A.955.html\n",
      "=====================\n",
      "[情報] 2020 德國電影獎 蘿拉獎 得獎名單\n",
      "https://www.ptt.cc/bbs/movie/M.1587826662.A.31C.html\n",
      "=====================\n",
      "[討論] 來讀星際大戰IX Duel of the Fates 6\n",
      "https://www.ptt.cc/bbs/movie/M.1587829297.A.9A6.html\n",
      "=====================\n",
      "[好雷] Before sunrise 和 Before sunset\n",
      "https://www.ptt.cc/bbs/movie/M.1587829959.A.E1B.html\n",
      "=====================\n",
      "[問片] 2012年以前的英語系電影\n",
      "https://www.ptt.cc/bbs/movie/M.1587830799.A.F01.html\n",
      "=====================\n",
      "[討論] 哪一部電影沒續集最可惜\n",
      "https://www.ptt.cc/bbs/movie/M.1587832086.A.174.html\n",
      "=====================\n",
      "[情報] 天氣之子2D&IMAX 重新上映 \n",
      "https://www.ptt.cc/bbs/movie/M.1587832185.A.510.html\n",
      "=====================\n",
      "[討論] 柯南劇場版\n",
      "https://www.ptt.cc/bbs/movie/M.1587833235.A.979.html\n",
      "=====================\n",
      "[普雷] 長沙里之戰:被遺忘的英雄\n",
      "https://www.ptt.cc/bbs/movie/M.1587836234.A.68F.html\n",
      "=====================\n",
      "Re: [討論] 星艦戰將最大的bug是什麼?\n",
      "https://www.ptt.cc/bbs/movie/M.1587837472.A.BAD.html\n",
      "=====================\n",
      "[好雷] 武士搬家好吃驚\n",
      "https://www.ptt.cc/bbs/movie/M.1587841108.A.74A.html\n",
      "=====================\n",
      "[問片] 一部為兒子復仇的電影\n",
      "https://www.ptt.cc/bbs/movie/M.1587851317.A.C12.html\n",
      "=====================\n",
      "[新聞] 美國戲院不急重開大門 等7月大片《天能》\n",
      "https://www.ptt.cc/bbs/movie/M.1587867403.A.05D.html\n",
      "=====================\n",
      "[公告] 板規 2020/03/01 (增加14.1)\n",
      "https://www.ptt.cc/bbs/movie/M.1559611458.A.DCA.html\n",
      "=====================\n",
      "[公告] 板規新增每日發文上限規定\n",
      "https://www.ptt.cc/bbs/movie/M.1565855832.A.0A7.html\n",
      "=====================\n",
      "[公告] 關於跑步哥\n",
      "https://www.ptt.cc/bbs/movie/M.1578684521.A.1B8.html\n",
      "=====================\n",
      "[板規] 串流平台情報規範\n",
      "https://www.ptt.cc/bbs/movie/M.1584946598.A.41F.html\n",
      "=====================\n"
     ]
    }
   ],
   "source": [
    "# Get titles and urls\n",
    "title_soup_list = soup.select('div.title')\n",
    "for title_soup in title_soup_list:\n",
    "#     print('=============')\n",
    "#     print(title_soup)\n",
    "    title_info = title_soup.select('a')[0]\n",
    "    title_name = title_info.text\n",
    "    article_url = 'https://www.ptt.cc' + title_info['href']\n",
    "    print(title_name)\n",
    "    print(article_url)\n",
    "    print('=====================')"
   ]
  },
  {
   "cell_type": "code",
   "execution_count": null,
   "metadata": {},
   "outputs": [],
   "source": []
  }
 ],
 "metadata": {
  "kernelspec": {
   "display_name": "Python 3",
   "language": "python",
   "name": "python3"
  },
  "language_info": {
   "codemirror_mode": {
    "name": "ipython",
    "version": 3
   },
   "file_extension": ".py",
   "mimetype": "text/x-python",
   "name": "python",
   "nbconvert_exporter": "python",
   "pygments_lexer": "ipython3",
   "version": "3.7.0"
  }
 },
 "nbformat": 4,
 "nbformat_minor": 4
}

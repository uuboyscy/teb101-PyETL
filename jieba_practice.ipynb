{
 "cells": [
  {
   "cell_type": "code",
   "execution_count": 1,
   "metadata": {},
   "outputs": [
    {
     "name": "stdout",
     "output_type": "stream",
     "text": [
      "Collecting jieba\n",
      "\u001b[?25l  Downloading https://files.pythonhosted.org/packages/c6/cb/18eeb235f833b726522d7ebed54f2278ce28ba9438e3135ab0278d9792a2/jieba-0.42.1.tar.gz (19.2MB)\n",
      "\u001b[K    100% |████████████████████████████████| 19.2MB 679kB/s ta 0:00:01   18% |█████▉                          | 3.5MB 1.1MB/s eta 0:00:14\n",
      "\u001b[?25hInstalling collected packages: jieba\n",
      "  Running setup.py install for jieba ... \u001b[?25ldone\n",
      "\u001b[?25hSuccessfully installed jieba-0.42.1\n"
     ]
    }
   ],
   "source": [
    "!pip install jieba"
   ]
  },
  {
   "cell_type": "code",
   "execution_count": 2,
   "metadata": {},
   "outputs": [],
   "source": [
    "import jieba"
   ]
  },
  {
   "cell_type": "code",
   "execution_count": 3,
   "metadata": {},
   "outputs": [
    {
     "name": "stderr",
     "output_type": "stream",
     "text": [
      "Building prefix dict from the default dictionary ...\n",
      "Dumping model to file cache /var/folders/mv/f_rwkh453m35xyxc6ms0wkt40000gn/T/jieba.cache\n",
      "Loading model cost 1.028 seconds.\n",
      "Prefix dict has been built successfully.\n"
     ]
    },
    {
     "name": "stdout",
     "output_type": "stream",
     "text": [
      "大家 | 好 | ， | 我 | 叫 | 小 | 賀 | ， | 今天 | 來 | 台北 | 北商 | 業 | 大 | 學 | 大 | 數 | 據 | 班上 | 課 | ， | 非常 | 開 | 心\n",
      "大家 | 好 | ， | 我 | 叫 | 小賀 | ， | 今天 | 來 | 台北 | 商業 | 大學大數 | 據 | 班上 | 課 | ， | 非常 | 開心\n",
      "大家 | 好 | ， | 我 | 叫 | 小賀 | ， | 今天 | 來 | 台北 | 商業 | 大學大數 | 據 | 班上 | 課 | ， | 非常 | 開心\n",
      "大家 | 好 | ， | 我 | 叫 | 小賀 | ， | 今天 | 來 | 台北 | 商業 | 大學大數 | 據 | 班上 | 課 | ， | 非常 | 開心\n"
     ]
    }
   ],
   "source": [
    "s = '大家好，我叫小賀，今天來台北商業大學大數據班上課，非常開心'\n",
    "\n",
    "s1_list = jieba.cut(s, cut_all=True)\n",
    "s2_list = jieba.cut(s, cut_all=False)\n",
    "s3_list = jieba.cut(s)\n",
    "s4_list = jieba.cut_for_search(s)\n",
    "\n",
    "print(' | '.join(s1_list))\n",
    "print(' | '.join(s2_list))\n",
    "print(' | '.join(s3_list))\n",
    "print(' | '.join(s4_list))"
   ]
  },
  {
   "cell_type": "code",
   "execution_count": 4,
   "metadata": {},
   "outputs": [
    {
     "name": "stdout",
     "output_type": "stream",
     "text": [
      "大家 | 好 | ， | 我 | 叫 | 小 | 賀 | ， | 今天 | 來 | 台北 | 台北商業大學 | 北商 | 業 | 大 | 學 | 大數據 | 班上 | 課 | ， | 非常 | 開 | 心\n",
      "大家 | 好 | ， | 我 | 叫 | 小賀 | ， | 今天 | 來 | 台北商業大學 | 大數據 | 班上 | 課 | ， | 非常 | 開心\n",
      "大家 | 好 | ， | 我 | 叫 | 小賀 | ， | 今天 | 來 | 台北商業大學 | 大數據 | 班上 | 課 | ， | 非常 | 開心\n",
      "大家 | 好 | ， | 我 | 叫 | 小賀 | ， | 今天 | 來 | 台北 | 北商 | 台北商業大學 | 大數據 | 班上 | 課 | ， | 非常 | 開心\n"
     ]
    }
   ],
   "source": [
    "import jieba\n",
    "\n",
    "jieba.load_userdict('./mydict.txt')\n",
    "\n",
    "s = '大家好，我叫小賀，今天來台北商業大學大數據班上課，非常開心'\n",
    "\n",
    "s1_list = jieba.cut(s, cut_all=True)\n",
    "s2_list = jieba.cut(s, cut_all=False)\n",
    "s3_list = jieba.cut(s)\n",
    "s4_list = jieba.cut_for_search(s)\n",
    "\n",
    "print(' | '.join(s1_list))\n",
    "print(' | '.join(s2_list))\n",
    "print(' | '.join(s3_list))\n",
    "print(' | '.join(s4_list))"
   ]
  },
  {
   "cell_type": "code",
   "execution_count": null,
   "metadata": {},
   "outputs": [],
   "source": []
  }
 ],
 "metadata": {
  "kernelspec": {
   "display_name": "Python 3",
   "language": "python",
   "name": "python3"
  },
  "language_info": {
   "codemirror_mode": {
    "name": "ipython",
    "version": 3
   },
   "file_extension": ".py",
   "mimetype": "text/x-python",
   "name": "python",
   "nbconvert_exporter": "python",
   "pygments_lexer": "ipython3",
   "version": "3.7.0"
  }
 },
 "nbformat": 4,
 "nbformat_minor": 4
}
